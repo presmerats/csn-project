{
 "cells": [
  {
   "cell_type": "markdown",
   "metadata": {
    "colab_type": "text",
    "id": "_Tzjuqjp1Xtf"
   },
   "source": [
    "# **GCN Kipf Keras version**"
   ]
  },
  {
   "cell_type": "markdown",
   "metadata": {
    "colab_type": "text",
    "id": "pierhA4qRnRh"
   },
   "source": [
    "## Environment Setup"
   ]
  },
  {
   "cell_type": "markdown",
   "metadata": {
    "colab_type": "text",
    "id": "9_MN_gBvoRPe"
   },
   "source": [
    "**Cairo lib for plotting**"
   ]
  },
  {
   "cell_type": "code",
   "execution_count": 1,
   "metadata": {
    "colab": {
     "base_uri": "https://localhost:8080/",
     "height": 793
    },
    "colab_type": "code",
    "executionInfo": {
     "elapsed": 18519,
     "status": "ok",
     "timestamp": 1546938650393,
     "user": {
      "displayName": "Pau Rodríguez Esmerats",
      "photoUrl": "https://lh3.googleusercontent.com/-2Uitcen3otI/AAAAAAAAAAI/AAAAAAAAAWw/bUyu80-sV4A/s64/photo.jpg",
      "userId": "00356217165817437249"
     },
     "user_tz": -60
    },
    "id": "GUm1dUBuoT-S",
    "outputId": "0128293a-3edb-46ac-ba42-6732dd38c794"
   },
   "outputs": [
    {
     "name": "stdout",
     "output_type": "stream",
     "text": [
      "Reading package lists... Done\n",
      "Building dependency tree       \n",
      "Reading state information... Done\n",
      "The following additional packages will be installed:\n",
      "  libcairo-script-interpreter2 libpixman-1-dev libxcb-shm0-dev\n",
      "Suggested packages:\n",
      "  libcairo2-doc\n",
      "The following NEW packages will be installed:\n",
      "  libcairo-script-interpreter2 libcairo2-dev libpixman-1-dev libxcb-shm0-dev\n",
      "0 upgraded, 4 newly installed, 0 to remove and 8 not upgraded.\n",
      "Need to get 930 kB of archives.\n",
      "After this operation, 3,985 kB of additional disk space will be used.\n",
      "Get:1 http://archive.ubuntu.com/ubuntu bionic/main amd64 libcairo-script-interpreter2 amd64 1.15.10-2 [53.4 kB]\n",
      "Get:2 http://archive.ubuntu.com/ubuntu bionic/main amd64 libpixman-1-dev amd64 0.34.0-2 [244 kB]\n",
      "Get:3 http://archive.ubuntu.com/ubuntu bionic/main amd64 libxcb-shm0-dev amd64 1.13-1 [6,676 B]\n",
      "Get:4 http://archive.ubuntu.com/ubuntu bionic/main amd64 libcairo2-dev amd64 1.15.10-2 [626 kB]\n",
      "Fetched 930 kB in 5s (182 kB/s)\n",
      "debconf: unable to initialize frontend: Dialog\n",
      "debconf: (No usable dialog-like program is installed, so the dialog based frontend cannot be used. at /usr/share/perl5/Debconf/FrontEnd/Dialog.pm line 76, <> line 4.)\n",
      "debconf: falling back to frontend: Readline\n",
      "debconf: unable to initialize frontend: Readline\n",
      "debconf: (This frontend requires a controlling tty.)\n",
      "debconf: falling back to frontend: Teletype\n",
      "dpkg-preconfigure: unable to re-open stdin: \n",
      "Selecting previously unselected package libcairo-script-interpreter2:amd64.\n",
      "(Reading database ... 110845 files and directories currently installed.)\n",
      "Preparing to unpack .../libcairo-script-interpreter2_1.15.10-2_amd64.deb ...\n",
      "Unpacking libcairo-script-interpreter2:amd64 (1.15.10-2) ...\n",
      "Selecting previously unselected package libpixman-1-dev:amd64.\n",
      "Preparing to unpack .../libpixman-1-dev_0.34.0-2_amd64.deb ...\n",
      "Unpacking libpixman-1-dev:amd64 (0.34.0-2) ...\n",
      "Selecting previously unselected package libxcb-shm0-dev:amd64.\n",
      "Preparing to unpack .../libxcb-shm0-dev_1.13-1_amd64.deb ...\n",
      "Unpacking libxcb-shm0-dev:amd64 (1.13-1) ...\n",
      "Selecting previously unselected package libcairo2-dev:amd64.\n",
      "Preparing to unpack .../libcairo2-dev_1.15.10-2_amd64.deb ...\n",
      "Unpacking libcairo2-dev:amd64 (1.15.10-2) ...\n",
      "Setting up libcairo-script-interpreter2:amd64 (1.15.10-2) ...\n",
      "Setting up libxcb-shm0-dev:amd64 (1.13-1) ...\n",
      "Processing triggers for libc-bin (2.27-3ubuntu1) ...\n",
      "Setting up libpixman-1-dev:amd64 (0.34.0-2) ...\n",
      "Setting up libcairo2-dev:amd64 (1.15.10-2) ...\n"
     ]
    }
   ],
   "source": [
    "# PENDING\n",
    "!sudo apt-get install libcairo2-dev"
   ]
  },
  {
   "cell_type": "code",
   "execution_count": 2,
   "metadata": {
    "colab": {
     "base_uri": "https://localhost:8080/",
     "height": 235
    },
    "colab_type": "code",
    "executionInfo": {
     "elapsed": 18154,
     "status": "ok",
     "timestamp": 1546938661631,
     "user": {
      "displayName": "Pau Rodríguez Esmerats",
      "photoUrl": "https://lh3.googleusercontent.com/-2Uitcen3otI/AAAAAAAAAAI/AAAAAAAAAWw/bUyu80-sV4A/s64/photo.jpg",
      "userId": "00356217165817437249"
     },
     "user_tz": -60
    },
    "id": "nfv_0GJAPrf5",
    "outputId": "cafed16f-454f-4297-ef5c-f0cebb7afc53"
   },
   "outputs": [
    {
     "name": "stdout",
     "output_type": "stream",
     "text": [
      "Collecting pycairo\n",
      "\u001b[?25l  Downloading https://files.pythonhosted.org/packages/a6/54/23d6cf3e8d8f1eb30e0e58f171b6f62b2ea75c024935492373639a1a08e4/pycairo-1.18.0.tar.gz (202kB)\n",
      "\r",
      "\u001b[K    5% |█▋                              | 10kB 16.0MB/s eta 0:00:01\r",
      "\u001b[K    10% |███▎                            | 20kB 4.6MB/s eta 0:00:01\r",
      "\u001b[K    15% |████▉                           | 30kB 6.6MB/s eta 0:00:01\r",
      "\u001b[K    20% |██████▌                         | 40kB 4.2MB/s eta 0:00:01\r",
      "\u001b[K    25% |████████                        | 51kB 5.1MB/s eta 0:00:01\r",
      "\u001b[K    30% |█████████▊                      | 61kB 6.0MB/s eta 0:00:01\r",
      "\u001b[K    35% |███████████▍                    | 71kB 6.9MB/s eta 0:00:01\r",
      "\u001b[K    40% |█████████████                   | 81kB 7.7MB/s eta 0:00:01\r",
      "\u001b[K    45% |██████████████▋                 | 92kB 8.5MB/s eta 0:00:01\r",
      "\u001b[K    50% |████████████████▏               | 102kB 6.7MB/s eta 0:00:01\r",
      "\u001b[K    55% |█████████████████▉              | 112kB 6.9MB/s eta 0:00:01\r",
      "\u001b[K    60% |███████████████████▌            | 122kB 9.1MB/s eta 0:00:01\r",
      "\u001b[K    65% |█████████████████████           | 133kB 9.1MB/s eta 0:00:01\r",
      "\u001b[K    70% |██████████████████████▊         | 143kB 16.2MB/s eta 0:00:01\r",
      "\u001b[K    75% |████████████████████████▎       | 153kB 16.2MB/s eta 0:00:01\r",
      "\u001b[K    81% |██████████████████████████      | 163kB 16.1MB/s eta 0:00:01\r",
      "\u001b[K    86% |███████████████████████████▋    | 174kB 15.8MB/s eta 0:00:01\r",
      "\u001b[K    91% |█████████████████████████████▏  | 184kB 15.9MB/s eta 0:00:01\r",
      "\u001b[K    96% |██████████████████████████████▉ | 194kB 16.0MB/s eta 0:00:01\r",
      "\u001b[K    100% |████████████████████████████████| 204kB 22.9MB/s \n",
      "\u001b[?25hRequirement already satisfied: networkx in /usr/local/lib/python2.7/dist-packages (2.2)\n",
      "Requirement already satisfied: decorator>=4.3.0 in /usr/local/lib/python2.7/dist-packages (from networkx) (4.3.0)\n",
      "Building wheels for collected packages: pycairo\n",
      "  Running setup.py bdist_wheel for pycairo ... \u001b[?25l-\b \b\\\b \b|\b \b/\b \b-\b \b\\\b \b|\b \b/\b \b-\b \b\\\b \b|\b \b/\b \b-\b \b\\\b \b|\b \b/\b \b-\b \b\\\b \b|\b \bdone\n",
      "\u001b[?25h  Stored in directory: /root/.cache/pip/wheels/e6/bb/aa/7b71758ea95e5ae6f1aef55bbc34cc4dd236383dc6554af0c5\n",
      "Successfully built pycairo\n",
      "Installing collected packages: pycairo\n",
      "Successfully installed pycairo-1.18.0\n"
     ]
    }
   ],
   "source": [
    "!pip install pycairo networkx\n",
    "#!pip install cairocffi networkx"
   ]
  },
  {
   "cell_type": "markdown",
   "metadata": {
    "colab_type": "text",
    "id": "YQ5SUX_mRcZe"
   },
   "source": [
    "**igraph for Python**"
   ]
  },
  {
   "cell_type": "code",
   "execution_count": 3,
   "metadata": {
    "colab": {
     "base_uri": "https://localhost:8080/",
     "height": 199
    },
    "colab_type": "code",
    "executionInfo": {
     "elapsed": 217482,
     "status": "ok",
     "timestamp": 1546938865193,
     "user": {
      "displayName": "Pau Rodríguez Esmerats",
      "photoUrl": "https://lh3.googleusercontent.com/-2Uitcen3otI/AAAAAAAAAAI/AAAAAAAAAWw/bUyu80-sV4A/s64/photo.jpg",
      "userId": "00356217165817437249"
     },
     "user_tz": -60
    },
    "id": "IR3oRhSibY51",
    "outputId": "6a892e5c-354d-4e23-f3ad-ed5ea622e0bd"
   },
   "outputs": [
    {
     "name": "stdout",
     "output_type": "stream",
     "text": [
      "Collecting python-igraph\n",
      "\u001b[?25l  Downloading https://files.pythonhosted.org/packages/0f/a0/4e7134f803737aa6eebb4e5250565ace0e2599659e22be7f7eba520ff017/python-igraph-0.7.1.post6.tar.gz (377kB)\n",
      "\u001b[K    100% |████████████████████████████████| 378kB 22.7MB/s \n",
      "\u001b[?25hBuilding wheels for collected packages: python-igraph\n",
      "  Running setup.py bdist_wheel for python-igraph ... \u001b[?25l-\b \b\\\b \b|\b \b/\b \b-\b \b\\\b \b|\b \b/\b \b-\b \b\\\b \b|\b \b/\b \b-\b \b\\\b \b|\b \b/\b \b-\b \b\\\b \b|\b \b/\b \b-\b \b\\\b \b|\b \b/\b \b-\b \b\\\b \b|\b \b/\b \b-\b \b\\\b \b|\b \b/\b \b-\b \b\\\b \b|\b \b/\b \b-\b \b\\\b \b|\b \b/\b \b-\b \b\\\b \b|\b \b/\b \b-\b \b\\\b \b|\b \b/\b \b-\b \b\\\b \b|\b \b/\b \b-\b \b\\\b \b|\b \b/\b \b-\b \b\\\b \b|\b \b/\b \b-\b \b\\\b \b|\b \b/\b \b-\b \b\\\b \b|\b \b/\b \b-\b \b\\\b \b|\b \b/\b \b-\b \b\\\b \b|\b \b/\b \b-\b \b\\\b \b|\b \b/\b \b-\b \b\\\b \b|\b \b/\b \b-\b \b\\\b \b|\b \b/\b \b-\b \b\\\b \b|\b \b/\b \b-\b \b\\\b \b|\b \b/\b \b-\b \b\\\b \b|\b \b/\b \b-\b \b\\\b \b|\b \b/\b \b-\b \b\\\b \b|\b \b/\b \b-\b \b\\\b \b|\b \b/\b \b-\b \b\\\b \b|\b \b/\b \b-\b \b\\\b \b|\b \b/\b \b-\b \b\\\b \b|\b \b/\b \b-\b \b\\\b \b|\b \b/\b \b-\b \b\\\b \b|\b \b/\b \b-\b \b\\\b \b|\b \b/\b \b-\b \b\\\b \b|\b \b/\b \b-\b \b\\\b \b|\b \b/\b \b-\b \b\\\b \b|\b \b/\b \b-\b \b\\\b \b|\b \b/\b \b-\b \b\\\b \b|\b \b/\b \b-\b \b\\\b \b|\b \b/\b \b-\b \b\\\b \b|\b \b/\b \b-\b \b\\\b \b|\b \b/\b \b-\b \b\\\b \b|\b \b/\b \b-\b \b\\\b \b|\b \b/\b \b-\b \b\\\b \b|\b \b/\b \b-\b \b\\\b \b|\b \b/\b \b-\b \b\\\b \b|\b \b/\b \b-\b \b\\\b \b|\b \b/\b \b-\b \b\\\b \b|\b \b/\b \b-\b \b\\\b \b|\b \b/\b \b-\b \b\\\b \b|\b \b/\b \b-\b \b\\\b \b|\b \b/\b \b-\b \b\\\b \b|\b \b/\b \b-\b \b\\\b \b|\b \b/\b \b-\b \b\\\b \b|\b \b/\b \b-\b \b\\\b \b|\b \b/\b \b-\b \b\\\b \b|\b \b/\b \b-\b \b\\\b \b|\b \b/\b \b-\b \b\\\b \b|\b \b/\b \b-\b \b\\\b \b|\b \b/\b \b-\b \b\\\b \b|\b \b/\b \b-\b \b\\\b \b|\b \b/\b \b-\b \b\\\b \b|\b \b/\b \b-\b \b\\\b \b|\b \b/\b \b-\b \b\\\b \b|\b \b/\b \b-\b \b\\\b \b|\b \b/\b \b-\b \b\\\b \b|\b \b/\b \b-\b \b\\\b \b|\b \b/\b \b-\b \b\\\b \b|\b \b/\b \b-\b \b\\\b \b|\b \b/\b \b-\b \b\\\b \b|\b \b/\b \b-\b \b\\\b \b|\b \b/\b \b-\b \b\\\b \b|\b \b/\b \b-\b \b\\\b \b|\b \b/\b \b-\b \b\\\b \b|\b \b/\b \b-\b \b\\\b \b|\b \b/\b \b-\b \b\\\b \b|\b \b/\b \b-\b \b\\\b \b|\b \b/\b \b-\b \b\\\b \b|\b \b/\b \b-\b \b\\\b \b|\b \b/\b \b-\b \b\\\b \b|\b \b/\b \b-\b \b\\\b \b|\b \b/\b \b-\b \b\\\b \b|\b \b/\b \b-\b \b\\\b \b|\b \b/\b \b-\b \b\\\b \b|\b \b/\b \b-\b \b\\\b \b|\b \b/\b \b-\b \b\\\b \b|\b \b/\b \b-\b \b\\\b \b|\b \b/\b \b-\b \b\\\b \b|\b \b/\b \b-\b \b\\\b \b|\b \b/\b \b-\b \b\\\b \b|\b \b/\b \b-\b \b\\\b \b|\b \b/\b \b-\b \b\\\b \b|\b \b/\b \b-\b \b\\\b \b|\b \b/\b \b-\b \b\\\b \b|\b \b/\b \b-\b \b\\\b \b|\b \b/\b \b-\b \b\\\b \b|\b \b/\b \b-\b \b\\\b \b|\b \b/\b \b-\b \b\\\b \b|\b \b/\b \b-\b \b\\\b \b|\b \b/\b \b-\b \b\\\b \b|\b \b/\b \b-\b \b\\\b \b|\b \b/\b \b-\b \b\\\b \b|\b \b/\b \b-\b \b\\\b \b|\b \b/\b \b-\b \b\\\b \b|\b \b/\b \b-\b \b\\\b \b|\b \b/\b \b-\b \b\\\b \b|\b \b/\b \b-\b \b\\\b \b|\b \b/\b \b-\b \b\\\b \b|\b \b/\b \b-\b \b\\\b \b|\b \b/\b \b-\b \b\\\b \b|\b \b/\b \b-\b \b\\\b \b|\b \b/\b \b-\b \b\\\b \b|\b \b/\b \b-\b \b\\\b \b|\b \b/\b \b-\b \b\\\b \b|\b \b/\b \b-\b \b\\\b \b|\b \b/\b \b-\b \b\\\b \b|\b \b/\b \b-\b \b\\\b \b|\b \b/\b \b-\b \b\\\b \b|\b \b/\b \b-\b \b\\\b \b|\b \b/\b \b-\b \b\\\b \b|\b \b/\b \b-\b \b\\\b \b|\b \b/\b \b-\b \b\\\b \b|\b \b/\b \b-\b \b\\\b \b|\b \b/\b \b-\b \b\\\b \b|\b \b/\b \b-\b \b\\\b \b|\b \b/\b \b-\b \b\\\b \b|\b \b/\b \b-\b \b\\\b \b|\b \b/\b \b-\b \b\\\b \b|\b \b/\b \b-\b \b\\\b \b|\b \b/\b \b-\b \b\\\b \b|\b \b/\b \b-\b \b\\\b \b|\b \b/\b \b-\b \b\\\b \b|\b \b/\b \b-\b \b\\\b \b|\b \b/\b \b-\b \b\\\b \b|\b \b/\b \b-\b \b\\\b \b|\b \b/\b \b-\b \b\\\b \b|\b \b/\b \b-\b \b\\\b \b|\b \b/\b \b-\b \b\\\b \b|\b \b/\b \b-\b \b\\\b \b|\b \b/\b \b-\b \b\\\b \b|\b \b/\b \b-\b \b\\\b \b|\b \b/\b \b-\b \b\\\b \b|\b \b/\b \b-\b \b\\\b \b|\b \b/\b \b-\b \b\\\b \b|\b \b/\b \b-\b \b\\\b \b|\b \b/\b \b-\b \b\\\b \b|\b \b/\b \b-\b \b\\\b \b|\b \b/\b \b-\b \b\\\b \b|\b \b/\b \b-\b \b\\\b \b|\b \b/\b \b-\b \b\\\b \b|\b \b/\b \b-\b \b\\\b \b|\b \b/\b \b-\b \b\\\b \b|\b \b/\b \b-\b \b\\\b \b|\b \b/\b \b-\b \b\\\b \b|\b \b/\b \b-\b \b\\\b \b|\b \b/\b \b-\b \b\\\b \b|\b \b/\b \b-\b \b\\\b \b|\b \b/\b \b-\b \b\\\b \b|\b \b/\b \b-\b \b\\\b \b|\b \b/\b \b-\b \b\\\b \b|\b \b/\b \b-\b \b\\\b \b|\b \b/\b \b-\b \b\\\b \b|\b \b/\b \b-\b \b\\\b \b|\b \b/\b \b-\b \b\\\b \b|\b \b/\b \b-\b \b\\\b \b|\b \b/\b \b-\b \b\\\b \b|\b \b/\b \b-\b \b\\\b \b|\b \b/\b \b-\b \b\\\b \b|\b \b/\b \b-\b \b\\\b \b|\b \b/\b \b-\b \b\\\b \b|\b \b/\b \b-\b \b\\\b \b|\b \b/\b \b-\b \b\\\b \b|\b \b/\b \b-\b \b\\\b \b|\b \b/\b \b-\b \b\\\b \b|\b \b/\b \b-\b \b\\\b \b|\b \b/\b \b-\b \b\\\b \b|\b \b/\b \b-\b \b\\\b \b|\b \b/\b \b-\b \b\\\b \b|\b \b/\b \b-\b \b\\\b \b|\b \b/\b \b-\b \b\\\b \b|\b \b/\b \b-\b \b\\\b \b|\b \b/\b \b-\b \b\\\b \b|\b \b/\b \b-\b \b\\\b \b|\b \b/\b \b-\b \b\\\b \b|\b \b/\b \b-\b \b\\\b \b|\b \b/\b \b-\b \b\\\b \b|\b \b/\b \b-\b \b\\\b \b|\b \b/\b \b-\b \b\\\b \b|\b \b/\b \b-\b \b\\\b \b|\b \b/\b \b-\b \b\\\b \b|\b \b/\b \b-\b \b\\\b \b|\b \b/\b \b-\b \b\\\b \b|\b \b/\b \b-\b \b\\\b \b|\b \b/\b \b-\b \b\\\b \b|\b \b/\b \b-\b \b\\\b \b|\b \b/\b \b-\b \b\\\b \b|\b \b/\b \b-\b \b\\\b \b|\b \b/\b \b-\b \b\\\b \b|\b \b/\b \b-\b \b\\\b \b|\b \b/\b \b-\b \b\\\b \b|\b \b/\b \b-\b \b\\\b \b|\b \b/\b \b-\b \b\\\b \b|\b \b/\b \b-\b \b\\\b \b|\b \b/\b \b-\b \b\\\b \b|\b \b/\b \b-\b \b\\\b \b|\b \b/\b \b-\b \b\\\b \b|\b \b/\b \b-\b \b\\\b \b|\b \b/\b \b-\b \b\\\b \b|\b \b/\b \b-\b \b\\\b \b|\b \b/\b \b-\b \b\\\b \b|\b \b/\b \b-\b \b\\\b \b|\b \b/\b \b-\b \b\\\b \b|\b \b/\b \b-\b \b\\\b \b|\b \b/\b \b-\b \b\\\b \b|\b \b/\b \b-\b \b\\\b \b|\b \b/\b \b-\b \b\\\b \b|\b \b/\b \b-\b \b\\\b \b|\b \b/\b \b-\b \b\\\b \b|\b \b/\b \b-\b \b\\\b \b|\b \b/\b \b-\b \b\\\b \b|\b \b/\b \b-\b \b\\\b \b|\b \b/\b \b-\b \b\\\b \b|\b \b/\b \b-\b \b\\\b \b|\b \b/\b \b-\b \b\\\b \b|\b \b/\b \b-\b \bdone\n",
      "\u001b[?25h  Stored in directory: /root/.cache/pip/wheels/41/d6/02/34eebae97e25f5b87d60f4c0687e00523e3f244fa41bc3f4a7\n",
      "Successfully built python-igraph\n",
      "Installing collected packages: python-igraph\n",
      "Successfully installed python-igraph-0.7.1.post6\n"
     ]
    }
   ],
   "source": [
    "!pip install python-igraph "
   ]
  },
  {
   "cell_type": "markdown",
   "metadata": {
    "colab_type": "text",
    "id": "mBtUfnrsRzVn"
   },
   "source": [
    "**Download code from github repo**"
   ]
  },
  {
   "cell_type": "code",
   "execution_count": 4,
   "metadata": {
    "colab": {
     "base_uri": "https://localhost:8080/",
     "height": 269
    },
    "colab_type": "code",
    "executionInfo": {
     "elapsed": 237240,
     "status": "ok",
     "timestamp": 1546938891037,
     "user": {
      "displayName": "Pau Rodríguez Esmerats",
      "photoUrl": "https://lh3.googleusercontent.com/-2Uitcen3otI/AAAAAAAAAAI/AAAAAAAAAWw/bUyu80-sV4A/s64/photo.jpg",
      "userId": "00356217165817437249"
     },
     "user_tz": -60
    },
    "id": "JV1s2XIZWQ1f",
    "outputId": "71584bc4-9e11-468b-c37c-5063d7c0f787"
   },
   "outputs": [
    {
     "name": "stdout",
     "output_type": "stream",
     "text": [
      "Github user··········\n",
      "Github password··········\n",
      "Cloning into 'csn-project'...\n",
      "remote: Enumerating objects: 50, done.\u001b[K\n",
      "remote: Counting objects: 100% (50/50), done.\u001b[K\n",
      "remote: Compressing objects: 100% (40/40), done.\u001b[K\n",
      "remote: Total 50 (delta 6), reused 47 (delta 6), pack-reused 0\u001b[K\n",
      "Unpacking objects: 100% (50/50), done.\n",
      "total 20\n",
      "drwxr-xr-x 1 root root 4096 Jan  8 09:14 .\n",
      "drwxr-xr-x 1 root root 4096 Jan  8 09:08 ..\n",
      "drwxr-xr-x 4 root root 4096 Jan  3 17:15 .config\n",
      "drwxr-xr-x 4 root root 4096 Jan  8 09:14 csn-project\n",
      "drwxr-xr-x 1 root root 4096 Jan  3 17:15 sample_data\n"
     ]
    }
   ],
   "source": [
    "from getpass import getpass\n",
    "import os\n",
    "\n",
    "user = getpass('Github user')\n",
    "password = getpass('Github password')\n",
    "os.environ['GIT_AUTH'] = user + ':' + password\n",
    "!git clone https://$GIT_AUTH@github.com/presmerats/csn-project.git\n",
    "!ls -la"
   ]
  },
  {
   "cell_type": "code",
   "execution_count": 0,
   "metadata": {
    "colab": {},
    "colab_type": "code",
    "id": "F3Od-AwHlDC0"
   },
   "outputs": [],
   "source": [
    "!rm -r ./csn-project"
   ]
  },
  {
   "cell_type": "markdown",
   "metadata": {
    "colab_type": "text",
    "id": "I_lAFfZjR3du"
   },
   "source": [
    "**Install the gcn code in order to execute it later**"
   ]
  },
  {
   "cell_type": "code",
   "execution_count": 5,
   "metadata": {
    "colab": {
     "base_uri": "https://localhost:8080/",
     "height": 3617
    },
    "colab_type": "code",
    "executionInfo": {
     "elapsed": 8028,
     "status": "ok",
     "timestamp": 1546938908468,
     "user": {
      "displayName": "Pau Rodríguez Esmerats",
      "photoUrl": "https://lh3.googleusercontent.com/-2Uitcen3otI/AAAAAAAAAAI/AAAAAAAAAWw/bUyu80-sV4A/s64/photo.jpg",
      "userId": "00356217165817437249"
     },
     "user_tz": -60
    },
    "id": "wbl7JjhfWQMu",
    "outputId": "c2d0f944-52b3-46de-ba97-86d8c63bf9bf"
   },
   "outputs": [
    {
     "name": "stdout",
     "output_type": "stream",
     "text": [
      "running install\n",
      "running bdist_egg\n",
      "running egg_info\n",
      "creating gcn.egg-info\n",
      "writing requirements to gcn.egg-info/requires.txt\n",
      "writing gcn.egg-info/PKG-INFO\n",
      "writing top-level names to gcn.egg-info/top_level.txt\n",
      "writing dependency_links to gcn.egg-info/dependency_links.txt\n",
      "writing manifest file 'gcn.egg-info/SOURCES.txt'\n",
      "reading manifest file 'gcn.egg-info/SOURCES.txt'\n",
      "writing manifest file 'gcn.egg-info/SOURCES.txt'\n",
      "installing library code to build/bdist.linux-x86_64/egg\n",
      "running install_lib\n",
      "running build_py\n",
      "creating build\n",
      "creating build/lib.linux-x86_64-2.7\n",
      "creating build/lib.linux-x86_64-2.7/gcn\n",
      "copying gcn/inits.py -> build/lib.linux-x86_64-2.7/gcn\n",
      "copying gcn/models.py -> build/lib.linux-x86_64-2.7/gcn\n",
      "copying gcn/train.py -> build/lib.linux-x86_64-2.7/gcn\n",
      "copying gcn/utils.py -> build/lib.linux-x86_64-2.7/gcn\n",
      "copying gcn/layers.py -> build/lib.linux-x86_64-2.7/gcn\n",
      "copying gcn/__init__.py -> build/lib.linux-x86_64-2.7/gcn\n",
      "copying gcn/metrics.py -> build/lib.linux-x86_64-2.7/gcn\n",
      "creating build/bdist.linux-x86_64\n",
      "creating build/bdist.linux-x86_64/egg\n",
      "creating build/bdist.linux-x86_64/egg/gcn\n",
      "copying build/lib.linux-x86_64-2.7/gcn/inits.py -> build/bdist.linux-x86_64/egg/gcn\n",
      "copying build/lib.linux-x86_64-2.7/gcn/models.py -> build/bdist.linux-x86_64/egg/gcn\n",
      "copying build/lib.linux-x86_64-2.7/gcn/train.py -> build/bdist.linux-x86_64/egg/gcn\n",
      "copying build/lib.linux-x86_64-2.7/gcn/utils.py -> build/bdist.linux-x86_64/egg/gcn\n",
      "copying build/lib.linux-x86_64-2.7/gcn/layers.py -> build/bdist.linux-x86_64/egg/gcn\n",
      "copying build/lib.linux-x86_64-2.7/gcn/__init__.py -> build/bdist.linux-x86_64/egg/gcn\n",
      "copying build/lib.linux-x86_64-2.7/gcn/metrics.py -> build/bdist.linux-x86_64/egg/gcn\n",
      "byte-compiling build/bdist.linux-x86_64/egg/gcn/inits.py to inits.pyc\n",
      "byte-compiling build/bdist.linux-x86_64/egg/gcn/models.py to models.pyc\n",
      "byte-compiling build/bdist.linux-x86_64/egg/gcn/train.py to train.pyc\n",
      "byte-compiling build/bdist.linux-x86_64/egg/gcn/utils.py to utils.pyc\n",
      "byte-compiling build/bdist.linux-x86_64/egg/gcn/layers.py to layers.pyc\n",
      "byte-compiling build/bdist.linux-x86_64/egg/gcn/__init__.py to __init__.pyc\n",
      "byte-compiling build/bdist.linux-x86_64/egg/gcn/metrics.py to metrics.pyc\n",
      "creating build/bdist.linux-x86_64/egg/EGG-INFO\n",
      "copying gcn.egg-info/PKG-INFO -> build/bdist.linux-x86_64/egg/EGG-INFO\n",
      "copying gcn.egg-info/SOURCES.txt -> build/bdist.linux-x86_64/egg/EGG-INFO\n",
      "copying gcn.egg-info/dependency_links.txt -> build/bdist.linux-x86_64/egg/EGG-INFO\n",
      "copying gcn.egg-info/requires.txt -> build/bdist.linux-x86_64/egg/EGG-INFO\n",
      "copying gcn.egg-info/top_level.txt -> build/bdist.linux-x86_64/egg/EGG-INFO\n",
      "zip_safe flag not set; analyzing archive contents...\n",
      "creating dist\n",
      "creating 'dist/gcn-1.0-py2.7.egg' and adding 'build/bdist.linux-x86_64/egg' to it\n",
      "removing 'build/bdist.linux-x86_64/egg' (and everything under it)\n",
      "Processing gcn-1.0-py2.7.egg\n",
      "Copying gcn-1.0-py2.7.egg to /usr/local/lib/python2.7/dist-packages\n",
      "Adding gcn 1.0 to easy-install.pth file\n",
      "\n",
      "Installed /usr/local/lib/python2.7/dist-packages/gcn-1.0-py2.7.egg\n",
      "Processing dependencies for gcn==1.0\n",
      "Searching for scipy==1.1.0\n",
      "Best match: scipy 1.1.0\n",
      "Adding scipy 1.1.0 to easy-install.pth file\n",
      "\n",
      "Using /usr/local/lib/python2.7/dist-packages\n",
      "Searching for networkx==2.2\n",
      "Best match: networkx 2.2\n",
      "Adding networkx 2.2 to easy-install.pth file\n",
      "\n",
      "Using /usr/local/lib/python2.7/dist-packages\n",
      "Searching for tensorflow==1.12.0\n",
      "Best match: tensorflow 1.12.0\n",
      "Adding tensorflow 1.12.0 to easy-install.pth file\n",
      "Installing tflite_convert script to /usr/local/bin\n",
      "Installing toco script to /usr/local/bin\n",
      "Installing toco_from_protos script to /usr/local/bin\n",
      "Installing freeze_graph script to /usr/local/bin\n",
      "Installing tensorboard script to /usr/local/bin\n",
      "Installing saved_model_cli script to /usr/local/bin\n",
      "\n",
      "Using /usr/local/lib/python2.7/dist-packages\n",
      "Searching for numpy==1.14.6\n",
      "Best match: numpy 1.14.6\n",
      "Adding numpy 1.14.6 to easy-install.pth file\n",
      "\n",
      "Using /usr/local/lib/python2.7/dist-packages\n",
      "Searching for decorator==4.3.0\n",
      "Best match: decorator 4.3.0\n",
      "Adding decorator 4.3.0 to easy-install.pth file\n",
      "\n",
      "Using /usr/local/lib/python2.7/dist-packages\n",
      "Searching for astor==0.7.1\n",
      "Best match: astor 0.7.1\n",
      "Adding astor 0.7.1 to easy-install.pth file\n",
      "\n",
      "Using /usr/local/lib/python2.7/dist-packages\n",
      "Searching for termcolor==1.1.0\n",
      "Best match: termcolor 1.1.0\n",
      "Adding termcolor 1.1.0 to easy-install.pth file\n",
      "\n",
      "Using /usr/local/lib/python2.7/dist-packages\n",
      "Searching for tensorboard==1.12.2\n",
      "Best match: tensorboard 1.12.2\n",
      "Adding tensorboard 1.12.2 to easy-install.pth file\n",
      "Installing tensorboard script to /usr/local/bin\n",
      "\n",
      "Using /usr/local/lib/python2.7/dist-packages\n",
      "Searching for six==1.11.0\n",
      "Best match: six 1.11.0\n",
      "Adding six 1.11.0 to easy-install.pth file\n",
      "\n",
      "Using /usr/local/lib/python2.7/dist-packages\n",
      "Searching for backports.weakref==1.0.post1\n",
      "Best match: backports.weakref 1.0.post1\n",
      "Adding backports.weakref 1.0.post1 to easy-install.pth file\n",
      "\n",
      "Using /usr/local/lib/python2.7/dist-packages\n",
      "Searching for absl-py==0.6.1\n",
      "Best match: absl-py 0.6.1\n",
      "Adding absl-py 0.6.1 to easy-install.pth file\n",
      "\n",
      "Using /usr/local/lib/python2.7/dist-packages\n",
      "Searching for wheel==0.32.3\n",
      "Best match: wheel 0.32.3\n",
      "Adding wheel 0.32.3 to easy-install.pth file\n",
      "Installing wheel script to /usr/local/bin\n",
      "\n",
      "Using /usr/local/lib/python2.7/dist-packages\n",
      "Searching for gast==0.2.0\n",
      "Best match: gast 0.2.0\n",
      "Adding gast 0.2.0 to easy-install.pth file\n",
      "\n",
      "Using /usr/local/lib/python2.7/dist-packages\n",
      "Searching for Keras-Preprocessing==1.0.5\n",
      "Best match: Keras-Preprocessing 1.0.5\n",
      "Adding Keras-Preprocessing 1.0.5 to easy-install.pth file\n",
      "\n",
      "Using /usr/local/lib/python2.7/dist-packages\n",
      "Searching for protobuf==3.6.1\n",
      "Best match: protobuf 3.6.1\n",
      "Adding protobuf 3.6.1 to easy-install.pth file\n",
      "\n",
      "Using /usr/local/lib/python2.7/dist-packages\n",
      "Searching for enum34==1.1.6\n",
      "Best match: enum34 1.1.6\n",
      "Adding enum34 1.1.6 to easy-install.pth file\n",
      "\n",
      "Using /usr/local/lib/python2.7/dist-packages\n",
      "Searching for Keras-Applications==1.0.6\n",
      "Best match: Keras-Applications 1.0.6\n",
      "Adding Keras-Applications 1.0.6 to easy-install.pth file\n",
      "\n",
      "Using /usr/local/lib/python2.7/dist-packages\n",
      "Searching for mock==2.0.0\n",
      "Best match: mock 2.0.0\n",
      "Adding mock 2.0.0 to easy-install.pth file\n",
      "\n",
      "Using /usr/local/lib/python2.7/dist-packages\n",
      "Searching for grpcio==1.15.0\n",
      "Best match: grpcio 1.15.0\n",
      "Adding grpcio 1.15.0 to easy-install.pth file\n",
      "\n",
      "Using /usr/local/lib/python2.7/dist-packages\n",
      "Searching for Markdown==3.0.1\n",
      "Best match: Markdown 3.0.1\n",
      "Adding Markdown 3.0.1 to easy-install.pth file\n",
      "Installing markdown_py script to /usr/local/bin\n",
      "\n",
      "Using /usr/local/lib/python2.7/dist-packages\n",
      "Searching for Werkzeug==0.14.1\n",
      "Best match: Werkzeug 0.14.1\n",
      "Adding Werkzeug 0.14.1 to easy-install.pth file\n",
      "\n",
      "Using /usr/local/lib/python2.7/dist-packages\n",
      "Searching for futures==3.2.0\n",
      "Best match: futures 3.2.0\n",
      "Adding futures 3.2.0 to easy-install.pth file\n",
      "\n",
      "Using /usr/local/lib/python2.7/dist-packages\n",
      "Searching for setuptools==40.6.3\n",
      "Best match: setuptools 40.6.3\n",
      "Adding setuptools 40.6.3 to easy-install.pth file\n",
      "Installing easy_install script to /usr/local/bin\n",
      "Installing easy_install-3.6 script to /usr/local/bin\n",
      "\n",
      "Using /usr/local/lib/python2.7/dist-packages\n",
      "Searching for h5py==2.8.0\n",
      "Best match: h5py 2.8.0\n",
      "Adding h5py 2.8.0 to easy-install.pth file\n",
      "\n",
      "Using /usr/local/lib/python2.7/dist-packages\n",
      "Searching for pbr==5.1.1\n",
      "Best match: pbr 5.1.1\n",
      "Adding pbr 5.1.1 to easy-install.pth file\n",
      "Installing pbr script to /usr/local/bin\n",
      "\n",
      "Using /usr/local/lib/python2.7/dist-packages\n",
      "Searching for funcsigs==1.0.2\n",
      "Best match: funcsigs 1.0.2\n",
      "Adding funcsigs 1.0.2 to easy-install.pth file\n",
      "\n",
      "Using /usr/local/lib/python2.7/dist-packages\n",
      "Finished processing dependencies for gcn==1.0\n"
     ]
    }
   ],
   "source": [
    "!cp -r ./csn-project/src/gcn/gcn/* ./\n",
    "!python setup.py install"
   ]
  },
  {
   "cell_type": "code",
   "execution_count": 0,
   "metadata": {
    "colab": {},
    "colab_type": "code",
    "id": "4bQ7GojOlUj1"
   },
   "outputs": [],
   "source": [
    "!ls -la"
   ]
  },
  {
   "cell_type": "markdown",
   "metadata": {
    "colab_type": "text",
    "id": "YPILTqr3XJQW"
   },
   "source": [
    "**Default GCN Demo**"
   ]
  },
  {
   "cell_type": "code",
   "execution_count": 6,
   "metadata": {
    "colab": {
     "base_uri": "https://localhost:8080/",
     "height": 4015
    },
    "colab_type": "code",
    "executionInfo": {
     "elapsed": 14148,
     "status": "ok",
     "timestamp": 1546938923525,
     "user": {
      "displayName": "Pau Rodríguez Esmerats",
      "photoUrl": "https://lh3.googleusercontent.com/-2Uitcen3otI/AAAAAAAAAAI/AAAAAAAAAWw/bUyu80-sV4A/s64/photo.jpg",
      "userId": "00356217165817437249"
     },
     "user_tz": -60
    },
    "id": "-n9L0dufXINJ",
    "outputId": "556b7a5d-27ad-43a0-c588-0fcb399796d2"
   },
   "outputs": [
    {
     "name": "stdout",
     "output_type": "stream",
     "text": [
      "WARNING:tensorflow:From /content/gcn/metrics.py:6: softmax_cross_entropy_with_logits (from tensorflow.python.ops.nn_ops) is deprecated and will be removed in a future version.\n",
      "Instructions for updating:\n",
      "\n",
      "Future major versions of TensorFlow will allow gradients to flow\n",
      "into the labels input on backprop by default.\n",
      "\n",
      "See `tf.nn.softmax_cross_entropy_with_logits_v2`.\n",
      "\n",
      "2019-01-08 09:15:17.040476: I tensorflow/stream_executor/cuda/cuda_gpu_executor.cc:964] successful NUMA node read from SysFS had negative value (-1), but there must be at least one NUMA node, so returning NUMA node zero\n",
      "2019-01-08 09:15:17.040932: I tensorflow/core/common_runtime/gpu/gpu_device.cc:1432] Found device 0 with properties: \n",
      "name: Tesla K80 major: 3 minor: 7 memoryClockRate(GHz): 0.8235\n",
      "pciBusID: 0000:00:04.0\n",
      "totalMemory: 11.17GiB freeMemory: 11.10GiB\n",
      "2019-01-08 09:15:17.040974: I tensorflow/core/common_runtime/gpu/gpu_device.cc:1511] Adding visible gpu devices: 0\n",
      "2019-01-08 09:15:18.045766: I tensorflow/core/common_runtime/gpu/gpu_device.cc:982] Device interconnect StreamExecutor with strength 1 edge matrix:\n",
      "2019-01-08 09:15:18.045825: I tensorflow/core/common_runtime/gpu/gpu_device.cc:988]      0 \n",
      "2019-01-08 09:15:18.045852: I tensorflow/core/common_runtime/gpu/gpu_device.cc:1001] 0:   N \n",
      "2019-01-08 09:15:18.046163: W tensorflow/core/common_runtime/gpu/gpu_bfc_allocator.cc:42] Overriding allow_growth setting because the TF_FORCE_GPU_ALLOW_GROWTH environment variable is set. Original config value was 0.\n",
      "2019-01-08 09:15:18.046264: I tensorflow/core/common_runtime/gpu/gpu_device.cc:1115] Created TensorFlow device (/job:localhost/replica:0/task:0/device:GPU:0 with 10758 MB memory) -> physical GPU (device: 0, name: Tesla K80, pci bus id: 0000:00:04.0, compute capability: 3.7)\n",
      "Epoch: 0001 train_loss= 1.95373 train_acc= 0.09286 val_loss= 1.95075 val_acc= 0.20200 time= 0.72009\n",
      "Epoch: 0002 train_loss= 1.94812 train_acc= 0.32857 val_loss= 1.94717 val_acc= 0.34000 time= 0.01465\n",
      "Epoch: 0003 train_loss= 1.94249 train_acc= 0.47857 val_loss= 1.94337 val_acc= 0.43000 time= 0.01401\n",
      "Epoch: 0004 train_loss= 1.93550 train_acc= 0.55000 val_loss= 1.93957 val_acc= 0.46400 time= 0.01401\n",
      "Epoch: 0005 train_loss= 1.92617 train_acc= 0.67143 val_loss= 1.93558 val_acc= 0.45400 time= 0.01476\n",
      "Epoch: 0006 train_loss= 1.91827 train_acc= 0.65714 val_loss= 1.93151 val_acc= 0.45400 time= 0.01354\n",
      "Epoch: 0007 train_loss= 1.90944 train_acc= 0.65714 val_loss= 1.92749 val_acc= 0.45600 time= 0.01346\n",
      "Epoch: 0008 train_loss= 1.90143 train_acc= 0.65714 val_loss= 1.92358 val_acc= 0.45400 time= 0.01448\n",
      "Epoch: 0009 train_loss= 1.89255 train_acc= 0.70000 val_loss= 1.91966 val_acc= 0.46600 time= 0.01437\n",
      "Epoch: 0010 train_loss= 1.88016 train_acc= 0.70000 val_loss= 1.91560 val_acc= 0.48200 time= 0.01404\n",
      "Epoch: 0011 train_loss= 1.87697 train_acc= 0.65714 val_loss= 1.91135 val_acc= 0.50000 time= 0.01385\n",
      "Epoch: 0012 train_loss= 1.87126 train_acc= 0.69286 val_loss= 1.90700 val_acc= 0.52800 time= 0.01318\n",
      "Epoch: 0013 train_loss= 1.85771 train_acc= 0.70000 val_loss= 1.90271 val_acc= 0.54600 time= 0.01354\n",
      "Epoch: 0014 train_loss= 1.84347 train_acc= 0.75000 val_loss= 1.89823 val_acc= 0.55600 time= 0.01381\n",
      "Epoch: 0015 train_loss= 1.83063 train_acc= 0.72857 val_loss= 1.89367 val_acc= 0.57200 time= 0.01422\n",
      "Epoch: 0016 train_loss= 1.81857 train_acc= 0.77143 val_loss= 1.88896 val_acc= 0.57600 time= 0.01353\n",
      "Epoch: 0017 train_loss= 1.81084 train_acc= 0.75714 val_loss= 1.88415 val_acc= 0.58800 time= 0.01356\n",
      "Epoch: 0018 train_loss= 1.79602 train_acc= 0.76429 val_loss= 1.87915 val_acc= 0.59200 time= 0.01372\n",
      "Epoch: 0019 train_loss= 1.77684 train_acc= 0.77857 val_loss= 1.87399 val_acc= 0.59600 time= 0.01380\n",
      "Epoch: 0020 train_loss= 1.77119 train_acc= 0.82857 val_loss= 1.86867 val_acc= 0.59800 time= 0.01339\n",
      "Epoch: 0021 train_loss= 1.76096 train_acc= 0.79286 val_loss= 1.86322 val_acc= 0.60000 time= 0.01367\n",
      "Epoch: 0022 train_loss= 1.75191 train_acc= 0.80000 val_loss= 1.85770 val_acc= 0.60400 time= 0.01486\n",
      "Epoch: 0023 train_loss= 1.72667 train_acc= 0.78571 val_loss= 1.85201 val_acc= 0.61200 time= 0.01939\n",
      "Epoch: 0024 train_loss= 1.72883 train_acc= 0.81429 val_loss= 1.84614 val_acc= 0.61600 time= 0.02032\n",
      "Epoch: 0025 train_loss= 1.71896 train_acc= 0.77143 val_loss= 1.84003 val_acc= 0.62200 time= 0.02473\n",
      "Epoch: 0026 train_loss= 1.69864 train_acc= 0.77143 val_loss= 1.83377 val_acc= 0.62400 time= 0.01611\n",
      "Epoch: 0027 train_loss= 1.69008 train_acc= 0.77143 val_loss= 1.82723 val_acc= 0.64000 time= 0.01333\n",
      "Epoch: 0028 train_loss= 1.68115 train_acc= 0.80714 val_loss= 1.82046 val_acc= 0.64400 time= 0.01419\n",
      "Epoch: 0029 train_loss= 1.64739 train_acc= 0.87143 val_loss= 1.81343 val_acc= 0.65000 time= 0.01470\n",
      "Epoch: 0030 train_loss= 1.64981 train_acc= 0.80714 val_loss= 1.80629 val_acc= 0.65800 time= 0.01360\n",
      "Epoch: 0031 train_loss= 1.61911 train_acc= 0.82857 val_loss= 1.79895 val_acc= 0.66600 time= 0.01375\n",
      "Epoch: 0032 train_loss= 1.61094 train_acc= 0.85714 val_loss= 1.79132 val_acc= 0.67000 time= 0.01386\n",
      "Epoch: 0033 train_loss= 1.59433 train_acc= 0.85000 val_loss= 1.78366 val_acc= 0.67600 time= 0.01307\n",
      "Epoch: 0034 train_loss= 1.59700 train_acc= 0.83571 val_loss= 1.77611 val_acc= 0.67800 time= 0.01304\n",
      "Epoch: 0035 train_loss= 1.54252 train_acc= 0.88571 val_loss= 1.76833 val_acc= 0.68200 time= 0.02007\n",
      "Epoch: 0036 train_loss= 1.56398 train_acc= 0.85000 val_loss= 1.76040 val_acc= 0.69000 time= 0.01365\n",
      "Epoch: 0037 train_loss= 1.54257 train_acc= 0.84286 val_loss= 1.75245 val_acc= 0.69400 time= 0.01419\n",
      "Epoch: 0038 train_loss= 1.51982 train_acc= 0.82857 val_loss= 1.74413 val_acc= 0.70400 time= 0.01334\n",
      "Epoch: 0039 train_loss= 1.51849 train_acc= 0.86429 val_loss= 1.73567 val_acc= 0.70800 time= 0.01403\n",
      "Epoch: 0040 train_loss= 1.48080 train_acc= 0.86429 val_loss= 1.72712 val_acc= 0.70600 time= 0.01411\n",
      "Epoch: 0041 train_loss= 1.47265 train_acc= 0.85000 val_loss= 1.71852 val_acc= 0.70800 time= 0.01376\n",
      "Epoch: 0042 train_loss= 1.49187 train_acc= 0.86429 val_loss= 1.70985 val_acc= 0.71400 time= 0.01414\n",
      "Epoch: 0043 train_loss= 1.42720 train_acc= 0.85000 val_loss= 1.70123 val_acc= 0.72000 time= 0.01358\n",
      "Epoch: 0044 train_loss= 1.43506 train_acc= 0.85000 val_loss= 1.69254 val_acc= 0.72600 time= 0.01327\n",
      "Epoch: 0045 train_loss= 1.43287 train_acc= 0.85714 val_loss= 1.68379 val_acc= 0.72400 time= 0.01342\n",
      "Epoch: 0046 train_loss= 1.39647 train_acc= 0.85000 val_loss= 1.67474 val_acc= 0.72800 time= 0.01369\n",
      "Epoch: 0047 train_loss= 1.37976 train_acc= 0.87143 val_loss= 1.66578 val_acc= 0.73000 time= 0.01346\n",
      "Epoch: 0048 train_loss= 1.37266 train_acc= 0.87857 val_loss= 1.65688 val_acc= 0.73400 time= 0.01437\n",
      "Epoch: 0049 train_loss= 1.37972 train_acc= 0.86429 val_loss= 1.64788 val_acc= 0.73600 time= 0.01537\n",
      "Epoch: 0050 train_loss= 1.34606 train_acc= 0.87143 val_loss= 1.63888 val_acc= 0.74200 time= 0.01569\n",
      "Epoch: 0051 train_loss= 1.33371 train_acc= 0.85714 val_loss= 1.62988 val_acc= 0.74200 time= 0.01450\n",
      "Epoch: 0052 train_loss= 1.37592 train_acc= 0.84286 val_loss= 1.62107 val_acc= 0.74400 time= 0.01374\n",
      "Epoch: 0053 train_loss= 1.29976 train_acc= 0.91429 val_loss= 1.61190 val_acc= 0.74600 time= 0.01363\n",
      "Epoch: 0054 train_loss= 1.28239 train_acc= 0.87857 val_loss= 1.60275 val_acc= 0.75400 time= 0.01323\n",
      "Epoch: 0055 train_loss= 1.28025 train_acc= 0.91429 val_loss= 1.59380 val_acc= 0.75800 time= 0.01318\n",
      "Epoch: 0056 train_loss= 1.23346 train_acc= 0.88571 val_loss= 1.58477 val_acc= 0.76200 time= 0.01395\n",
      "Epoch: 0057 train_loss= 1.25270 train_acc= 0.90000 val_loss= 1.57587 val_acc= 0.76400 time= 0.01387\n",
      "Epoch: 0058 train_loss= 1.21232 train_acc= 0.92857 val_loss= 1.56665 val_acc= 0.76800 time= 0.01422\n",
      "Epoch: 0059 train_loss= 1.24300 train_acc= 0.91429 val_loss= 1.55738 val_acc= 0.76800 time= 0.01653\n",
      "Epoch: 0060 train_loss= 1.22105 train_acc= 0.91429 val_loss= 1.54817 val_acc= 0.76800 time= 0.01350\n",
      "Epoch: 0061 train_loss= 1.20168 train_acc= 0.90714 val_loss= 1.53940 val_acc= 0.76800 time= 0.01437\n",
      "Epoch: 0062 train_loss= 1.18822 train_acc= 0.91429 val_loss= 1.53074 val_acc= 0.76800 time= 0.01372\n",
      "Epoch: 0063 train_loss= 1.17174 train_acc= 0.88571 val_loss= 1.52197 val_acc= 0.77000 time= 0.01361\n",
      "Epoch: 0064 train_loss= 1.19916 train_acc= 0.87143 val_loss= 1.51318 val_acc= 0.77000 time= 0.01369\n",
      "Epoch: 0065 train_loss= 1.12766 train_acc= 0.90714 val_loss= 1.50428 val_acc= 0.76800 time= 0.01336\n",
      "Epoch: 0066 train_loss= 1.11986 train_acc= 0.92857 val_loss= 1.49507 val_acc= 0.77600 time= 0.01334\n",
      "Epoch: 0067 train_loss= 1.14863 train_acc= 0.86429 val_loss= 1.48625 val_acc= 0.78000 time= 0.01341\n",
      "Epoch: 0068 train_loss= 1.09683 train_acc= 0.90714 val_loss= 1.47790 val_acc= 0.78000 time= 0.01353\n",
      "Epoch: 0069 train_loss= 1.07072 train_acc= 0.92143 val_loss= 1.46958 val_acc= 0.78000 time= 0.01397\n",
      "Epoch: 0070 train_loss= 1.12547 train_acc= 0.92143 val_loss= 1.46148 val_acc= 0.78000 time= 0.01367\n",
      "Epoch: 0071 train_loss= 1.09437 train_acc= 0.93571 val_loss= 1.45362 val_acc= 0.78000 time= 0.01918\n",
      "Epoch: 0072 train_loss= 1.03482 train_acc= 0.92857 val_loss= 1.44596 val_acc= 0.78000 time= 0.01345\n",
      "Epoch: 0073 train_loss= 1.05598 train_acc= 0.92143 val_loss= 1.43855 val_acc= 0.78200 time= 0.01344\n",
      "Epoch: 0074 train_loss= 1.11026 train_acc= 0.93571 val_loss= 1.43097 val_acc= 0.77800 time= 0.01304\n",
      "Epoch: 0075 train_loss= 1.04242 train_acc= 0.90714 val_loss= 1.42361 val_acc= 0.77800 time= 0.01337\n",
      "Epoch: 0076 train_loss= 1.06375 train_acc= 0.91429 val_loss= 1.41616 val_acc= 0.77800 time= 0.01347\n",
      "Epoch: 0077 train_loss= 0.97804 train_acc= 0.94286 val_loss= 1.40864 val_acc= 0.77800 time= 0.01365\n",
      "Epoch: 0078 train_loss= 1.02091 train_acc= 0.92857 val_loss= 1.40155 val_acc= 0.77800 time= 0.01363\n",
      "Epoch: 0079 train_loss= 0.99042 train_acc= 0.92857 val_loss= 1.39492 val_acc= 0.77800 time= 0.01348\n",
      "Epoch: 0080 train_loss= 0.97288 train_acc= 0.95000 val_loss= 1.38856 val_acc= 0.78000 time= 0.01351\n",
      "Epoch: 0081 train_loss= 0.98811 train_acc= 0.92143 val_loss= 1.38253 val_acc= 0.78000 time= 0.01507\n",
      "Epoch: 0082 train_loss= 0.97666 train_acc= 0.92857 val_loss= 1.37658 val_acc= 0.78000 time= 0.01345\n",
      "Epoch: 0083 train_loss= 0.97041 train_acc= 0.90000 val_loss= 1.37076 val_acc= 0.78000 time= 0.01394\n",
      "Epoch: 0084 train_loss= 1.01846 train_acc= 0.93571 val_loss= 1.36531 val_acc= 0.78000 time= 0.01405\n",
      "Epoch: 0085 train_loss= 0.99078 train_acc= 0.90000 val_loss= 1.35981 val_acc= 0.78000 time= 0.01883\n",
      "Epoch: 0086 train_loss= 0.95950 train_acc= 0.95000 val_loss= 1.35422 val_acc= 0.78000 time= 0.01352\n",
      "Epoch: 0087 train_loss= 0.98173 train_acc= 0.94286 val_loss= 1.34867 val_acc= 0.78000 time= 0.01388\n",
      "Epoch: 0088 train_loss= 0.94133 train_acc= 0.95000 val_loss= 1.34307 val_acc= 0.78000 time= 0.01401\n",
      "Epoch: 0089 train_loss= 0.94469 train_acc= 0.91429 val_loss= 1.33738 val_acc= 0.77800 time= 0.01390\n",
      "Epoch: 0090 train_loss= 0.93210 train_acc= 0.90714 val_loss= 1.33178 val_acc= 0.77800 time= 0.01343\n",
      "Epoch: 0091 train_loss= 0.94818 train_acc= 0.94286 val_loss= 1.32622 val_acc= 0.77800 time= 0.01350\n",
      "Epoch: 0092 train_loss= 0.96379 train_acc= 0.93571 val_loss= 1.32098 val_acc= 0.77800 time= 0.01485\n",
      "Epoch: 0093 train_loss= 0.92452 train_acc= 0.92143 val_loss= 1.31627 val_acc= 0.77800 time= 0.01354\n",
      "Epoch: 0094 train_loss= 0.85478 train_acc= 0.95714 val_loss= 1.31182 val_acc= 0.77800 time= 0.01351\n",
      "Epoch: 0095 train_loss= 0.91923 train_acc= 0.92143 val_loss= 1.30745 val_acc= 0.77600 time= 0.02030\n",
      "Epoch: 0096 train_loss= 0.85466 train_acc= 0.96429 val_loss= 1.30330 val_acc= 0.77600 time= 0.01915\n",
      "Epoch: 0097 train_loss= 0.87474 train_acc= 0.92857 val_loss= 1.29896 val_acc= 0.77400 time= 0.01487\n",
      "Epoch: 0098 train_loss= 0.90325 train_acc= 0.92143 val_loss= 1.29444 val_acc= 0.77400 time= 0.01944\n",
      "Epoch: 0099 train_loss= 0.84998 train_acc= 0.94286 val_loss= 1.28940 val_acc= 0.77600 time= 0.01483\n",
      "Epoch: 0100 train_loss= 0.89317 train_acc= 0.95000 val_loss= 1.28432 val_acc= 0.77600 time= 0.01410\n",
      "Epoch: 0101 train_loss= 0.85654 train_acc= 0.95000 val_loss= 1.27931 val_acc= 0.77600 time= 0.01380\n",
      "Epoch: 0102 train_loss= 0.83025 train_acc= 0.95000 val_loss= 1.27413 val_acc= 0.77800 time= 0.01589\n",
      "Epoch: 0103 train_loss= 0.90886 train_acc= 0.92143 val_loss= 1.26932 val_acc= 0.77800 time= 0.01490\n",
      "Epoch: 0104 train_loss= 0.85497 train_acc= 0.95000 val_loss= 1.26467 val_acc= 0.78200 time= 0.01440\n",
      "Epoch: 0105 train_loss= 0.85640 train_acc= 0.92857 val_loss= 1.26004 val_acc= 0.78200 time= 0.01548\n",
      "Epoch: 0106 train_loss= 0.82504 train_acc= 0.97143 val_loss= 1.25542 val_acc= 0.78200 time= 0.01379\n",
      "Epoch: 0107 train_loss= 0.80829 train_acc= 0.92857 val_loss= 1.25126 val_acc= 0.78000 time= 0.01406\n",
      "Epoch: 0108 train_loss= 0.85372 train_acc= 0.94286 val_loss= 1.24752 val_acc= 0.78000 time= 0.01308\n",
      "Epoch: 0109 train_loss= 0.81557 train_acc= 0.92143 val_loss= 1.24411 val_acc= 0.78000 time= 0.01368\n",
      "Epoch: 0110 train_loss= 0.76667 train_acc= 0.96429 val_loss= 1.24009 val_acc= 0.78200 time= 0.01406\n",
      "Epoch: 0111 train_loss= 0.84375 train_acc= 0.93571 val_loss= 1.23637 val_acc= 0.78000 time= 0.01376\n",
      "Epoch: 0112 train_loss= 0.84792 train_acc= 0.95000 val_loss= 1.23269 val_acc= 0.77600 time= 0.01767\n",
      "Epoch: 0113 train_loss= 0.79518 train_acc= 0.96429 val_loss= 1.22935 val_acc= 0.77800 time= 0.01410\n",
      "Epoch: 0114 train_loss= 0.81337 train_acc= 0.95714 val_loss= 1.22661 val_acc= 0.78000 time= 0.01403\n",
      "Epoch: 0115 train_loss= 0.82696 train_acc= 0.97143 val_loss= 1.22360 val_acc= 0.77800 time= 0.01405\n",
      "Epoch: 0116 train_loss= 0.80620 train_acc= 0.91429 val_loss= 1.22019 val_acc= 0.78000 time= 0.01345\n",
      "Epoch: 0117 train_loss= 0.82210 train_acc= 0.95000 val_loss= 1.21697 val_acc= 0.78200 time= 0.01430\n",
      "Epoch: 0118 train_loss= 0.78598 train_acc= 0.95000 val_loss= 1.21387 val_acc= 0.78200 time= 0.01396\n",
      "Epoch: 0119 train_loss= 0.80300 train_acc= 0.95000 val_loss= 1.21076 val_acc= 0.78200 time= 0.01405\n",
      "Epoch: 0120 train_loss= 0.76708 train_acc= 0.97143 val_loss= 1.20728 val_acc= 0.78400 time= 0.01413\n",
      "Epoch: 0121 train_loss= 0.80297 train_acc= 0.94286 val_loss= 1.20400 val_acc= 0.78400 time= 0.01352\n",
      "Epoch: 0122 train_loss= 0.75991 train_acc= 0.95000 val_loss= 1.20050 val_acc= 0.78400 time= 0.01362\n",
      "Epoch: 0123 train_loss= 0.76395 train_acc= 0.95714 val_loss= 1.19687 val_acc= 0.78400 time= 0.01360\n",
      "Epoch: 0124 train_loss= 0.77066 train_acc= 0.95714 val_loss= 1.19322 val_acc= 0.78400 time= 0.01530\n",
      "Epoch: 0125 train_loss= 0.76932 train_acc= 0.95714 val_loss= 1.18932 val_acc= 0.78400 time= 0.01325\n",
      "Epoch: 0126 train_loss= 0.75021 train_acc= 0.94286 val_loss= 1.18547 val_acc= 0.78400 time= 0.01852\n",
      "Epoch: 0127 train_loss= 0.76891 train_acc= 0.92143 val_loss= 1.18196 val_acc= 0.78200 time= 0.01397\n",
      "Epoch: 0128 train_loss= 0.72375 train_acc= 0.97857 val_loss= 1.17854 val_acc= 0.78400 time= 0.01394\n",
      "Epoch: 0129 train_loss= 0.74320 train_acc= 0.93571 val_loss= 1.17509 val_acc= 0.78200 time= 0.01355\n",
      "Epoch: 0130 train_loss= 0.79010 train_acc= 0.92857 val_loss= 1.17201 val_acc= 0.78200 time= 0.01325\n",
      "Epoch: 0131 train_loss= 0.75802 train_acc= 0.95714 val_loss= 1.16900 val_acc= 0.78200 time= 0.01337\n",
      "Epoch: 0132 train_loss= 0.76183 train_acc= 0.97143 val_loss= 1.16582 val_acc= 0.78200 time= 0.01349\n",
      "Epoch: 0133 train_loss= 0.68512 train_acc= 0.95714 val_loss= 1.16297 val_acc= 0.78000 time= 0.01407\n",
      "Epoch: 0134 train_loss= 0.74747 train_acc= 0.95714 val_loss= 1.16028 val_acc= 0.78000 time= 0.01313\n",
      "Epoch: 0135 train_loss= 0.68341 train_acc= 0.97143 val_loss= 1.15789 val_acc= 0.78000 time= 0.01385\n",
      "Epoch: 0136 train_loss= 0.71162 train_acc= 0.96429 val_loss= 1.15595 val_acc= 0.78000 time= 0.01361\n",
      "Epoch: 0137 train_loss= 0.76564 train_acc= 0.96429 val_loss= 1.15415 val_acc= 0.78000 time= 0.01338\n",
      "Epoch: 0138 train_loss= 0.71910 train_acc= 0.96429 val_loss= 1.15209 val_acc= 0.78200 time= 0.01316\n",
      "Epoch: 0139 train_loss= 0.76463 train_acc= 0.94286 val_loss= 1.15014 val_acc= 0.78200 time= 0.01353\n",
      "Epoch: 0140 train_loss= 0.69996 train_acc= 0.95714 val_loss= 1.14854 val_acc= 0.78400 time= 0.01678\n",
      "Epoch: 0141 train_loss= 0.72332 train_acc= 0.95714 val_loss= 1.14792 val_acc= 0.78400 time= 0.01501\n",
      "Epoch: 0142 train_loss= 0.72512 train_acc= 0.96429 val_loss= 1.14742 val_acc= 0.78400 time= 0.01379\n",
      "Epoch: 0143 train_loss= 0.68661 train_acc= 0.95000 val_loss= 1.14660 val_acc= 0.78200 time= 0.01331\n",
      "Epoch: 0144 train_loss= 0.74463 train_acc= 0.93571 val_loss= 1.14545 val_acc= 0.78200 time= 0.01346\n",
      "Epoch: 0145 train_loss= 0.68075 train_acc= 0.96429 val_loss= 1.14403 val_acc= 0.78000 time= 0.01374\n",
      "Epoch: 0146 train_loss= 0.70026 train_acc= 0.96429 val_loss= 1.14251 val_acc= 0.78400 time= 0.01353\n",
      "Epoch: 0147 train_loss= 0.68024 train_acc= 0.93571 val_loss= 1.14075 val_acc= 0.78200 time= 0.01406\n",
      "Epoch: 0148 train_loss= 0.70145 train_acc= 0.96429 val_loss= 1.13866 val_acc= 0.78400 time= 0.01309\n",
      "Epoch: 0149 train_loss= 0.67701 train_acc= 0.96429 val_loss= 1.13657 val_acc= 0.78200 time= 0.01315\n",
      "Epoch: 0150 train_loss= 0.68453 train_acc= 0.94286 val_loss= 1.13420 val_acc= 0.78200 time= 0.01544\n",
      "Epoch: 0151 train_loss= 0.66527 train_acc= 0.98571 val_loss= 1.13141 val_acc= 0.78400 time= 0.01395\n",
      "Epoch: 0152 train_loss= 0.67694 train_acc= 0.96429 val_loss= 1.12885 val_acc= 0.78400 time= 0.01308\n",
      "Epoch: 0153 train_loss= 0.71368 train_acc= 0.94286 val_loss= 1.12607 val_acc= 0.78400 time= 0.01342\n",
      "Epoch: 0154 train_loss= 0.68269 train_acc= 0.93571 val_loss= 1.12300 val_acc= 0.78400 time= 0.01379\n",
      "Epoch: 0155 train_loss= 0.66479 train_acc= 0.97857 val_loss= 1.12022 val_acc= 0.78400 time= 0.01856\n",
      "Epoch: 0156 train_loss= 0.69107 train_acc= 0.96429 val_loss= 1.11803 val_acc= 0.78400 time= 0.01320\n",
      "Epoch: 0157 train_loss= 0.63052 train_acc= 0.97857 val_loss= 1.11589 val_acc= 0.78200 time= 0.01392\n",
      "Epoch: 0158 train_loss= 0.67463 train_acc= 0.96429 val_loss= 1.11338 val_acc= 0.78200 time= 0.01360\n",
      "Epoch: 0159 train_loss= 0.66616 train_acc= 0.94286 val_loss= 1.11111 val_acc= 0.78000 time= 0.01389\n",
      "Epoch: 0160 train_loss= 0.66629 train_acc= 0.95714 val_loss= 1.10851 val_acc= 0.78000 time= 0.01364\n",
      "Epoch: 0161 train_loss= 0.67079 train_acc= 0.97857 val_loss= 1.10609 val_acc= 0.78200 time= 0.01360\n",
      "Epoch: 0162 train_loss= 0.69043 train_acc= 0.97857 val_loss= 1.10330 val_acc= 0.78200 time= 0.01344\n",
      "Epoch: 0163 train_loss= 0.67199 train_acc= 0.95000 val_loss= 1.10098 val_acc= 0.78200 time= 0.01377\n",
      "Epoch: 0164 train_loss= 0.65285 train_acc= 0.95714 val_loss= 1.09904 val_acc= 0.78200 time= 0.01328\n",
      "Epoch: 0165 train_loss= 0.71285 train_acc= 0.95000 val_loss= 1.09738 val_acc= 0.78000 time= 0.01336\n",
      "Epoch: 0166 train_loss= 0.66846 train_acc= 0.95000 val_loss= 1.09619 val_acc= 0.78000 time= 0.01812\n",
      "Epoch: 0167 train_loss= 0.65185 train_acc= 0.97143 val_loss= 1.09502 val_acc= 0.78000 time= 0.01741\n",
      "Epoch: 0168 train_loss= 0.65922 train_acc= 0.95000 val_loss= 1.09437 val_acc= 0.78000 time= 0.01326\n",
      "Epoch: 0169 train_loss= 0.63922 train_acc= 0.98571 val_loss= 1.09393 val_acc= 0.78000 time= 0.01867\n",
      "Epoch: 0170 train_loss= 0.65303 train_acc= 0.95000 val_loss= 1.09337 val_acc= 0.78400 time= 0.01408\n",
      "Epoch: 0171 train_loss= 0.71675 train_acc= 0.95000 val_loss= 1.09231 val_acc= 0.78400 time= 0.01381\n",
      "Epoch: 0172 train_loss= 0.60315 train_acc= 0.96429 val_loss= 1.09168 val_acc= 0.78400 time= 0.01349\n",
      "Epoch: 0173 train_loss= 0.66708 train_acc= 0.95000 val_loss= 1.09123 val_acc= 0.78200 time= 0.01312\n",
      "Epoch: 0174 train_loss= 0.60544 train_acc= 0.96429 val_loss= 1.09062 val_acc= 0.78400 time= 0.01324\n",
      "Epoch: 0175 train_loss= 0.62438 train_acc= 0.95714 val_loss= 1.08964 val_acc= 0.78200 time= 0.01579\n",
      "Epoch: 0176 train_loss= 0.62084 train_acc= 0.97857 val_loss= 1.08855 val_acc= 0.78400 time= 0.01382\n",
      "Epoch: 0177 train_loss= 0.66996 train_acc= 0.96429 val_loss= 1.08688 val_acc= 0.78400 time= 0.01330\n",
      "Epoch: 0178 train_loss= 0.60861 train_acc= 0.95714 val_loss= 1.08472 val_acc= 0.78600 time= 0.01322\n",
      "Epoch: 0179 train_loss= 0.67340 train_acc= 0.93571 val_loss= 1.08298 val_acc= 0.78600 time= 0.01353\n",
      "Epoch: 0180 train_loss= 0.66175 train_acc= 0.95000 val_loss= 1.08165 val_acc= 0.78600 time= 0.01353\n",
      "Epoch: 0181 train_loss= 0.61844 train_acc= 0.97143 val_loss= 1.07973 val_acc= 0.78800 time= 0.01315\n",
      "Epoch: 0182 train_loss= 0.63747 train_acc= 0.95000 val_loss= 1.07774 val_acc= 0.78800 time= 0.01306\n",
      "Epoch: 0183 train_loss= 0.65082 train_acc= 0.96429 val_loss= 1.07553 val_acc= 0.79000 time= 0.01714\n",
      "Epoch: 0184 train_loss= 0.64940 train_acc= 0.96429 val_loss= 1.07379 val_acc= 0.79000 time= 0.01446\n",
      "Epoch: 0185 train_loss= 0.65327 train_acc= 0.96429 val_loss= 1.07198 val_acc= 0.79000 time= 0.01360\n",
      "Epoch: 0186 train_loss= 0.64274 train_acc= 0.93571 val_loss= 1.07061 val_acc= 0.78800 time= 0.01388\n",
      "Epoch: 0187 train_loss= 0.61765 train_acc= 0.95714 val_loss= 1.06936 val_acc= 0.78600 time= 0.01304\n",
      "Epoch: 0188 train_loss= 0.59455 train_acc= 0.95000 val_loss= 1.06786 val_acc= 0.78600 time= 0.01367\n",
      "Epoch: 0189 train_loss= 0.62280 train_acc= 0.96429 val_loss= 1.06605 val_acc= 0.78600 time= 0.01346\n",
      "Epoch: 0190 train_loss= 0.58775 train_acc= 0.96429 val_loss= 1.06476 val_acc= 0.78400 time= 0.01401\n",
      "Epoch: 0191 train_loss= 0.60825 train_acc= 0.96429 val_loss= 1.06330 val_acc= 0.78400 time= 0.01406\n",
      "Epoch: 0192 train_loss= 0.66347 train_acc= 0.95000 val_loss= 1.06135 val_acc= 0.78400 time= 0.01336\n",
      "Epoch: 0193 train_loss= 0.61228 train_acc= 0.95000 val_loss= 1.05893 val_acc= 0.78400 time= 0.01315\n",
      "Epoch: 0194 train_loss= 0.57785 train_acc= 0.96429 val_loss= 1.05669 val_acc= 0.78400 time= 0.01371\n",
      "Epoch: 0195 train_loss= 0.61476 train_acc= 0.95714 val_loss= 1.05407 val_acc= 0.78400 time= 0.01397\n",
      "Epoch: 0196 train_loss= 0.60326 train_acc= 0.97857 val_loss= 1.05155 val_acc= 0.78200 time= 0.01363\n",
      "Epoch: 0197 train_loss= 0.60377 train_acc= 0.97143 val_loss= 1.04940 val_acc= 0.78000 time= 0.01873\n",
      "Epoch: 0198 train_loss= 0.60680 train_acc= 0.95000 val_loss= 1.04847 val_acc= 0.78000 time= 0.01452\n",
      "Epoch: 0199 train_loss= 0.61920 train_acc= 0.96429 val_loss= 1.04797 val_acc= 0.78400 time= 0.01394\n",
      "Epoch: 0200 train_loss= 0.57948 train_acc= 0.96429 val_loss= 1.04753 val_acc= 0.78600 time= 0.01363\n",
      "Optimization Finished!\n",
      "Test set results: cost= 1.00983 accuracy= 0.81300 time= 0.00663\n"
     ]
    }
   ],
   "source": [
    "!cp -r ./gcn/* .\n",
    "!python train.py"
   ]
  },
  {
   "cell_type": "code",
   "execution_count": 0,
   "metadata": {
    "colab": {
     "base_uri": "https://localhost:8080/",
     "height": 161
    },
    "colab_type": "code",
    "executionInfo": {
     "elapsed": 3521,
     "status": "ok",
     "timestamp": 1546451095738,
     "user": {
      "displayName": "Pau Rodríguez Esmerats",
      "photoUrl": "https://lh3.googleusercontent.com/-2Uitcen3otI/AAAAAAAAAAI/AAAAAAAAAWw/bUyu80-sV4A/s64/photo.jpg",
      "userId": "00356217165817437249"
     },
     "user_tz": -60
    },
    "id": "sZopxMQCaWXd",
    "outputId": "02d5bc9a-28de-4ea1-9dc2-db1f479312e1"
   },
   "outputs": [
    {
     "name": "stdout",
     "output_type": "stream",
     "text": [
      "ind.citeseer.allx\t ind.cora.allx\t      ind.pubmed.allx\n",
      "ind.citeseer.ally\t ind.cora.ally\t      ind.pubmed.ally\n",
      "ind.citeseer.graph\t ind.cora.graph       ind.pubmed.graph\n",
      "ind.citeseer.test.index  ind.cora.test.index  ind.pubmed.test.index\n",
      "ind.citeseer.tx\t\t ind.cora.tx\t      ind.pubmed.tx\n",
      "ind.citeseer.ty\t\t ind.cora.ty\t      ind.pubmed.ty\n",
      "ind.citeseer.x\t\t ind.cora.x\t      ind.pubmed.x\n",
      "ind.citeseer.y\t\t ind.cora.y\t      ind.pubmed.y\n"
     ]
    }
   ],
   "source": [
    "!ls data"
   ]
  },
  {
   "cell_type": "markdown",
   "metadata": {
    "colab_type": "text",
    "id": "hhU0xyw2bZyE"
   },
   "source": [
    "**Prepare a random graph with igraph for python**"
   ]
  },
  {
   "cell_type": "code",
   "execution_count": 0,
   "metadata": {
    "colab": {},
    "colab_type": "code",
    "id": "jX2HfKw0bY8Z"
   },
   "outputs": [],
   "source": [
    "from igraph import *\n",
    "import igraph.test\n",
    "igraph.test.run_tests()"
   ]
  },
  {
   "cell_type": "code",
   "execution_count": 0,
   "metadata": {
    "colab": {
     "base_uri": "https://localhost:8080/",
     "height": 35
    },
    "colab_type": "code",
    "executionInfo": {
     "elapsed": 21814,
     "status": "ok",
     "timestamp": 1546451789242,
     "user": {
      "displayName": "Pau Rodríguez Esmerats",
      "photoUrl": "https://lh3.googleusercontent.com/-2Uitcen3otI/AAAAAAAAAAI/AAAAAAAAAWw/bUyu80-sV4A/s64/photo.jpg",
      "userId": "00356217165817437249"
     },
     "user_tz": -60
    },
    "id": "GlapAE1-bY_M",
    "outputId": "6f8cd561-0df9-4068-f940-a99414a8de2f"
   },
   "outputs": [
    {
     "name": "stdout",
     "output_type": "stream",
     "text": [
      "IGRAPH U--- 127 126 -- \n"
     ]
    }
   ],
   "source": [
    "g = Graph.Tree(127, 2)\n",
    "summary(g)"
   ]
  },
  {
   "cell_type": "code",
   "execution_count": 9,
   "metadata": {
    "colab": {
     "base_uri": "https://localhost:8080/",
     "height": 53
    },
    "colab_type": "code",
    "executionInfo": {
     "elapsed": 1076,
     "status": "ok",
     "timestamp": 1546939243219,
     "user": {
      "displayName": "Pau Rodríguez Esmerats",
      "photoUrl": "https://lh3.googleusercontent.com/-2Uitcen3otI/AAAAAAAAAAI/AAAAAAAAAWw/bUyu80-sV4A/s64/photo.jpg",
      "userId": "00356217165817437249"
     },
     "user_tz": -60
    },
    "id": "dh3d1r1JnHmR",
    "outputId": "12417548-8259-4722-8968-d36781682690"
   },
   "outputs": [
    {
     "name": "stdout",
     "output_type": "stream",
     "text": [
      "IGRAPH U--- 100 526 -- \n",
      "+ attr: x (v), y (v)\n"
     ]
    }
   ],
   "source": [
    "g = Graph.GRG(100, 0.2)\n",
    "summary(g)"
   ]
  },
  {
   "cell_type": "code",
   "execution_count": 10,
   "metadata": {
    "colab": {
     "base_uri": "https://localhost:8080/",
     "height": 35
    },
    "colab_type": "code",
    "executionInfo": {
     "elapsed": 1031,
     "status": "ok",
     "timestamp": 1546939246259,
     "user": {
      "displayName": "Pau Rodríguez Esmerats",
      "photoUrl": "https://lh3.googleusercontent.com/-2Uitcen3otI/AAAAAAAAAAI/AAAAAAAAAWw/bUyu80-sV4A/s64/photo.jpg",
      "userId": "00356217165817437249"
     },
     "user_tz": -60
    },
    "id": "HLZCo7vxnHpm",
    "outputId": "398d882e-ee28-4d56-8faf-082cf9562b1b"
   },
   "outputs": [
    {
     "name": "stdout",
     "output_type": "stream",
     "text": [
      "IGRAPH U--- 100 1021 -- \n"
     ]
    }
   ],
   "source": [
    "g = Graph.Erdos_Renyi(100, 0.2)\n",
    "summary(g)"
   ]
  },
  {
   "cell_type": "code",
   "execution_count": 12,
   "metadata": {
    "colab": {
     "base_uri": "https://localhost:8080/",
     "height": 35
    },
    "colab_type": "code",
    "executionInfo": {
     "elapsed": 770,
     "status": "ok",
     "timestamp": 1546939256686,
     "user": {
      "displayName": "Pau Rodríguez Esmerats",
      "photoUrl": "https://lh3.googleusercontent.com/-2Uitcen3otI/AAAAAAAAAAI/AAAAAAAAAWw/bUyu80-sV4A/s64/photo.jpg",
      "userId": "00356217165817437249"
     },
     "user_tz": -60
    },
    "id": "ek6Frs7Bw6lP",
    "outputId": "b9cac8e9-2904-4350-e5cb-d9f3f0efceae"
   },
   "outputs": [
    {
     "data": {
      "text/plain": [
       "[21, 25, 19, 14]"
      ]
     },
     "execution_count": 12,
     "metadata": {
      "tags": []
     },
     "output_type": "execute_result"
    }
   ],
   "source": [
    "g.degree([2,3,6,99])"
   ]
  },
  {
   "cell_type": "code",
   "execution_count": 0,
   "metadata": {
    "colab": {},
    "colab_type": "code",
    "id": "a3Ht_sPVxACh"
   },
   "outputs": [],
   "source": [
    "g.edge_betweenness()"
   ]
  },
  {
   "cell_type": "code",
   "execution_count": 15,
   "metadata": {
    "colab": {
     "base_uri": "https://localhost:8080/",
     "height": 1817
    },
    "colab_type": "code",
    "executionInfo": {
     "elapsed": 1055,
     "status": "ok",
     "timestamp": 1546939346112,
     "user": {
      "displayName": "Pau Rodríguez Esmerats",
      "photoUrl": "https://lh3.googleusercontent.com/-2Uitcen3otI/AAAAAAAAAAI/AAAAAAAAAWw/bUyu80-sV4A/s64/photo.jpg",
      "userId": "00356217165817437249"
     },
     "user_tz": -60
    },
    "id": "4OXNaSi6xNo9",
    "outputId": "cde91d71-ef30-4dbf-88f9-4dc924bdb82f"
   },
   "outputs": [
    {
     "data": {
      "text/plain": [
       "[0.008556682575654393,\n",
       " 0.009787960054262024,\n",
       " 0.010268022022845805,\n",
       " 0.01195638206201937,\n",
       " 0.008923123133995198,\n",
       " 0.008114978100929158,\n",
       " 0.009373194132065183,\n",
       " 0.010284371118031538,\n",
       " 0.012347611285800265,\n",
       " 0.008569643665677331,\n",
       " 0.010656115824384721,\n",
       " 0.008866750066760003,\n",
       " 0.010367014835966554,\n",
       " 0.010190371831994657,\n",
       " 0.011042782902082524,\n",
       " 0.009079073189039966,\n",
       " 0.011880649759114001,\n",
       " 0.009915754044987072,\n",
       " 0.010750185432328896,\n",
       " 0.011062080587992967,\n",
       " 0.008122180246360277,\n",
       " 0.009407620445562932,\n",
       " 0.008108578915868052,\n",
       " 0.00948624483121143,\n",
       " 0.009469514550873838,\n",
       " 0.013103593233174095,\n",
       " 0.01027177098838991,\n",
       " 0.010198451153550489,\n",
       " 0.009426485587574454,\n",
       " 0.00979164583969691,\n",
       " 0.010618597212476752,\n",
       " 0.007774470169402051,\n",
       " 0.012047792572496734,\n",
       " 0.008942933050748569,\n",
       " 0.008996026751272456,\n",
       " 0.007809488312255146,\n",
       " 0.008538750297127622,\n",
       " 0.010699805520525294,\n",
       " 0.011139422699689788,\n",
       " 0.008177926769053021,\n",
       " 0.010207642374329085,\n",
       " 0.010674014461613165,\n",
       " 0.011945673440704069,\n",
       " 0.008122234419738833,\n",
       " 0.008657904149887223,\n",
       " 0.01198506146135408,\n",
       " 0.009057211549005711,\n",
       " 0.009443786357411813,\n",
       " 0.008678530118278002,\n",
       " 0.011898943114612254,\n",
       " 0.01354972884130627,\n",
       " 0.007290366826277038,\n",
       " 0.01183935151031358,\n",
       " 0.013079964404147201,\n",
       " 0.012734305624746914,\n",
       " 0.006063458356031454,\n",
       " 0.01276530892662422,\n",
       " 0.009887179689167601,\n",
       " 0.00978110844035996,\n",
       " 0.012334690908478064,\n",
       " 0.00988574797775631,\n",
       " 0.006098832624752891,\n",
       " 0.011586819515189145,\n",
       " 0.009423291064155336,\n",
       " 0.008897165380005257,\n",
       " 0.008921598963874946,\n",
       " 0.01183863886464214,\n",
       " 0.014833720057643513,\n",
       " 0.008551198012430993,\n",
       " 0.006879584511064217,\n",
       " 0.00565599676092433,\n",
       " 0.008977513079599275,\n",
       " 0.010618496736624126,\n",
       " 0.010670923335190463,\n",
       " 0.00854377187093857,\n",
       " 0.010262132705290665,\n",
       " 0.011122385929397377,\n",
       " 0.008972765951647295,\n",
       " 0.009399983682112914,\n",
       " 0.013443125567221754,\n",
       " 0.010154045878928217,\n",
       " 0.009954901930245858,\n",
       " 0.010171078084920777,\n",
       " 0.011885228352201868,\n",
       " 0.010199829841212192,\n",
       " 0.012327493977834371,\n",
       " 0.009875271123849498,\n",
       " 0.011114127879926121,\n",
       " 0.008963186565819589,\n",
       " 0.009435137522912244,\n",
       " 0.012711973456586177,\n",
       " 0.009408744011550032,\n",
       " 0.012296826896140525,\n",
       " 0.00814282404951638,\n",
       " 0.007274388302929994,\n",
       " 0.0097517547973496,\n",
       " 0.011111360896994044,\n",
       " 0.00812490964031445,\n",
       " 0.011098170516789857,\n",
       " 0.007294542935888713]"
      ]
     },
     "execution_count": 15,
     "metadata": {
      "tags": []
     },
     "output_type": "execute_result"
    }
   ],
   "source": [
    "g.pagerank()"
   ]
  },
  {
   "cell_type": "code",
   "execution_count": 19,
   "metadata": {
    "colab": {
     "base_uri": "https://localhost:8080/",
     "height": 5921
    },
    "colab_type": "code",
    "executionInfo": {
     "elapsed": 1047,
     "status": "ok",
     "timestamp": 1546939833369,
     "user": {
      "displayName": "Pau Rodríguez Esmerats",
      "photoUrl": "https://lh3.googleusercontent.com/-2Uitcen3otI/AAAAAAAAAAI/AAAAAAAAAWw/bUyu80-sV4A/s64/photo.jpg",
      "userId": "00356217165817437249"
     },
     "user_tz": -60
    },
    "id": "eDPgM5NZy0hk",
    "outputId": "e5872e66-fd55-4a69-b461-0892f5feddb6"
   },
   "outputs": [
    {
     "data": {
      "text/plain": [
       "['Adjacency',\n",
       " 'Asymmetric_Preference',\n",
       " 'Atlas',\n",
       " 'Barabasi',\n",
       " 'Bipartite',\n",
       " 'De_Bruijn',\n",
       " 'Degree_Sequence',\n",
       " 'DictList',\n",
       " 'Erdos_Renyi',\n",
       " 'Establishment',\n",
       " 'Famous',\n",
       " 'Forest_Fire',\n",
       " 'Formula',\n",
       " 'Full',\n",
       " 'Full_Bipartite',\n",
       " 'Full_Citation',\n",
       " 'GRG',\n",
       " 'Growing_Random',\n",
       " 'Incidence',\n",
       " 'Isoclass',\n",
       " 'K_Regular',\n",
       " 'Kautz',\n",
       " 'LCF',\n",
       " 'Lattice',\n",
       " 'Load',\n",
       " 'Preference',\n",
       " 'Random_Bipartite',\n",
       " 'Read',\n",
       " 'Read_Adjacency',\n",
       " 'Read_DIMACS',\n",
       " 'Read_DL',\n",
       " 'Read_Edgelist',\n",
       " 'Read_GML',\n",
       " 'Read_GraphDB',\n",
       " 'Read_GraphML',\n",
       " 'Read_GraphMLz',\n",
       " 'Read_Lgl',\n",
       " 'Read_Ncol',\n",
       " 'Read_Pajek',\n",
       " 'Read_Pickle',\n",
       " 'Read_Picklez',\n",
       " 'Recent_Degree',\n",
       " 'Ring',\n",
       " 'SBM',\n",
       " 'Star',\n",
       " 'Static_Fitness',\n",
       " 'Static_Power_Law',\n",
       " 'Tree',\n",
       " 'TupleList',\n",
       " 'Watts_Strogatz',\n",
       " 'Weighted_Adjacency',\n",
       " '_Bipartite',\n",
       " '_Full_Bipartite',\n",
       " '_GRG',\n",
       " '_Incidence',\n",
       " '_Random_Bipartite',\n",
       " '__add__',\n",
       " '__and__',\n",
       " '__class__',\n",
       " '__coerce__',\n",
       " '__delattr__',\n",
       " '__delitem__',\n",
       " '__dict__',\n",
       " '__doc__',\n",
       " '__format__',\n",
       " '__getattribute__',\n",
       " '__getitem__',\n",
       " '__graph_as_cobject',\n",
       " '__hash__',\n",
       " '__iadd__',\n",
       " '__init__',\n",
       " '__invert__',\n",
       " '__isub__',\n",
       " '__module__',\n",
       " '__mul__',\n",
       " '__new__',\n",
       " '__nonzero__',\n",
       " '__or__',\n",
       " '__plot__',\n",
       " '__rand__',\n",
       " '__reduce__',\n",
       " '__reduce_ex__',\n",
       " '__register_destructor',\n",
       " '__repr__',\n",
       " '__ror__',\n",
       " '__setattr__',\n",
       " '__setitem__',\n",
       " '__sizeof__',\n",
       " '__str__',\n",
       " '__sub__',\n",
       " '__subclasshook__',\n",
       " '_as_parameter_',\n",
       " '_format_mapping',\n",
       " '_identify_format',\n",
       " '_is_matching',\n",
       " '_is_maximal_matching',\n",
       " '_layout_mapping',\n",
       " '_layout_sugiyama',\n",
       " '_maximum_bipartite_matching',\n",
       " '_raw_pointer',\n",
       " '_reconstruct',\n",
       " '_spanning_tree',\n",
       " 'add_edge',\n",
       " 'add_edges',\n",
       " 'add_vertex',\n",
       " 'add_vertices',\n",
       " 'adhesion',\n",
       " 'adjacent',\n",
       " 'all_minimal_st_separators',\n",
       " 'all_st_cuts',\n",
       " 'all_st_mincuts',\n",
       " 'alpha',\n",
       " 'are_connected',\n",
       " 'articulation_points',\n",
       " 'as_directed',\n",
       " 'as_undirected',\n",
       " 'assortativity',\n",
       " 'assortativity_degree',\n",
       " 'assortativity_nominal',\n",
       " 'attributes',\n",
       " 'authority_score',\n",
       " 'average_path_length',\n",
       " 'betweenness',\n",
       " 'bfs',\n",
       " 'bfsiter',\n",
       " 'bibcoupling',\n",
       " 'biconnected_components',\n",
       " 'bipartite_projection',\n",
       " 'bipartite_projection_size',\n",
       " 'blocks',\n",
       " 'canonical_permutation',\n",
       " 'clique_number',\n",
       " 'cliques',\n",
       " 'closeness',\n",
       " 'clusters',\n",
       " 'cocitation',\n",
       " 'cohesion',\n",
       " 'cohesive_blocks',\n",
       " 'community_edge_betweenness',\n",
       " 'community_fastgreedy',\n",
       " 'community_infomap',\n",
       " 'community_label_propagation',\n",
       " 'community_leading_eigenvector',\n",
       " 'community_leading_eigenvector_naive',\n",
       " 'community_multilevel',\n",
       " 'community_optimal_modularity',\n",
       " 'community_spinglass',\n",
       " 'community_walktrap',\n",
       " 'complementer',\n",
       " 'components',\n",
       " 'compose',\n",
       " 'constraint',\n",
       " 'contract_vertices',\n",
       " 'convergence_degree',\n",
       " 'convergence_field_size',\n",
       " 'copy',\n",
       " 'coreness',\n",
       " 'count_automorphisms_vf2',\n",
       " 'count_isomorphisms_vf2',\n",
       " 'count_multiple',\n",
       " 'count_subisomorphisms_vf2',\n",
       " 'cut_vertices',\n",
       " 'decompose',\n",
       " 'degree',\n",
       " 'degree_distribution',\n",
       " 'delete_edges',\n",
       " 'delete_vertices',\n",
       " 'density',\n",
       " 'diameter',\n",
       " 'difference',\n",
       " 'disjoint_union',\n",
       " 'diversity',\n",
       " 'dyad_census',\n",
       " 'eccentricity',\n",
       " 'ecount',\n",
       " 'edge_attributes',\n",
       " 'edge_betweenness',\n",
       " 'edge_connectivity',\n",
       " 'edge_disjoint_paths',\n",
       " 'eigen_adjacency',\n",
       " 'eigenvector_centrality',\n",
       " 'es',\n",
       " 'evcent',\n",
       " 'farthest_points',\n",
       " 'feedback_arc_set',\n",
       " 'get_adjacency',\n",
       " 'get_adjedgelist',\n",
       " 'get_adjlist',\n",
       " 'get_all_shortest_paths',\n",
       " 'get_automorphisms_vf2',\n",
       " 'get_diameter',\n",
       " 'get_edgelist',\n",
       " 'get_eid',\n",
       " 'get_eids',\n",
       " 'get_incidence',\n",
       " 'get_inclist',\n",
       " 'get_isomorphisms_vf2',\n",
       " 'get_shortest_paths',\n",
       " 'get_subisomorphisms_lad',\n",
       " 'get_subisomorphisms_vf2',\n",
       " 'girth',\n",
       " 'gomory_hu_tree',\n",
       " 'has_multiple',\n",
       " 'hub_score',\n",
       " 'incident',\n",
       " 'indegree',\n",
       " 'independence_number',\n",
       " 'independent_vertex_sets',\n",
       " 'induced_subgraph',\n",
       " 'intersection',\n",
       " 'is_bipartite',\n",
       " 'is_connected',\n",
       " 'is_dag',\n",
       " 'is_directed',\n",
       " 'is_loop',\n",
       " 'is_minimal_separator',\n",
       " 'is_multiple',\n",
       " 'is_mutual',\n",
       " 'is_named',\n",
       " 'is_separator',\n",
       " 'is_simple',\n",
       " 'is_weighted',\n",
       " 'isoclass',\n",
       " 'isomorphic',\n",
       " 'isomorphic_bliss',\n",
       " 'isomorphic_vf2',\n",
       " 'k_core',\n",
       " 'knn',\n",
       " 'laplacian',\n",
       " 'largest_cliques',\n",
       " 'largest_independent_vertex_sets',\n",
       " 'layout',\n",
       " 'layout_auto',\n",
       " 'layout_bipartite',\n",
       " 'layout_circle',\n",
       " 'layout_drl',\n",
       " 'layout_fruchterman_reingold',\n",
       " 'layout_fruchterman_reingold_3d',\n",
       " 'layout_graphopt',\n",
       " 'layout_grid',\n",
       " 'layout_grid_3d',\n",
       " 'layout_grid_fruchterman_reingold',\n",
       " 'layout_kamada_kawai',\n",
       " 'layout_kamada_kawai_3d',\n",
       " 'layout_lgl',\n",
       " 'layout_mds',\n",
       " 'layout_random',\n",
       " 'layout_random_3d',\n",
       " 'layout_reingold_tilford',\n",
       " 'layout_reingold_tilford_circular',\n",
       " 'layout_sphere',\n",
       " 'layout_star',\n",
       " 'layout_sugiyama',\n",
       " 'linegraph',\n",
       " 'maxdegree',\n",
       " 'maxflow',\n",
       " 'maxflow_value',\n",
       " 'maximal_cliques',\n",
       " 'maximal_independent_vertex_sets',\n",
       " 'maximum_bipartite_matching',\n",
       " 'mincut',\n",
       " 'mincut_value',\n",
       " 'minimum_size_separators',\n",
       " 'modularity',\n",
       " 'motifs_randesu',\n",
       " 'motifs_randesu_estimate',\n",
       " 'motifs_randesu_no',\n",
       " 'neighborhood',\n",
       " 'neighborhood_size',\n",
       " 'neighbors',\n",
       " 'omega',\n",
       " 'outdegree',\n",
       " 'pagerank',\n",
       " 'path_length_hist',\n",
       " 'permute_vertices',\n",
       " 'personalized_pagerank',\n",
       " 'predecessors',\n",
       " 'radius',\n",
       " 'reciprocity',\n",
       " 'rewire',\n",
       " 'rewire_edges',\n",
       " 'save',\n",
       " 'shell_index',\n",
       " 'shortest_paths',\n",
       " 'shortest_paths_dijkstra',\n",
       " 'similarity_dice',\n",
       " 'similarity_inverse_log_weighted',\n",
       " 'similarity_jaccard',\n",
       " 'simplify',\n",
       " 'spanning_tree',\n",
       " 'st_mincut',\n",
       " 'strength',\n",
       " 'subcomponent',\n",
       " 'subgraph',\n",
       " 'subgraph_edges',\n",
       " 'subisomorphic_lad',\n",
       " 'subisomorphic_vf2',\n",
       " 'successors',\n",
       " 'summary',\n",
       " 'to_directed',\n",
       " 'to_undirected',\n",
       " 'topological_sorting',\n",
       " 'transitivity_avglocal_undirected',\n",
       " 'transitivity_local_undirected',\n",
       " 'transitivity_undirected',\n",
       " 'triad_census',\n",
       " 'unfold_tree',\n",
       " 'union',\n",
       " 'vcount',\n",
       " 'vertex_attributes',\n",
       " 'vertex_connectivity',\n",
       " 'vertex_disjoint_paths',\n",
       " 'vs',\n",
       " 'write',\n",
       " 'write_adjacency',\n",
       " 'write_dimacs',\n",
       " 'write_dot',\n",
       " 'write_edgelist',\n",
       " 'write_gml',\n",
       " 'write_graphml',\n",
       " 'write_graphmlz',\n",
       " 'write_leda',\n",
       " 'write_lgl',\n",
       " 'write_ncol',\n",
       " 'write_pajek',\n",
       " 'write_pickle',\n",
       " 'write_picklez',\n",
       " 'write_svg']"
      ]
     },
     "execution_count": 19,
     "metadata": {
      "tags": []
     },
     "output_type": "execute_result"
    }
   ],
   "source": [
    "#g.neighbors(g.node(1).vs, mode=\"ALL\")\n",
    "g.get_adjacency()\n",
    "dir(g)"
   ]
  },
  {
   "cell_type": "code",
   "execution_count": 0,
   "metadata": {
    "colab": {
     "base_uri": "https://localhost:8080/",
     "height": 35
    },
    "colab_type": "code",
    "executionInfo": {
     "elapsed": 1521,
     "status": "ok",
     "timestamp": 1546451131103,
     "user": {
      "displayName": "Pau Rodríguez Esmerats",
      "photoUrl": "https://lh3.googleusercontent.com/-2Uitcen3otI/AAAAAAAAAAI/AAAAAAAAAWw/bUyu80-sV4A/s64/photo.jpg",
      "userId": "00356217165817437249"
     },
     "user_tz": -60
    },
    "id": "sMQ_GgI0nijQ",
    "outputId": "b25b2b1f-ced4-4f4d-90a6-0830b6a32ca7"
   },
   "outputs": [
    {
     "name": "stdout",
     "output_type": "stream",
     "text": [
      "IGRAPH U--- 100 400 -- \n"
     ]
    }
   ],
   "source": [
    "g = Graph.Watts_Strogatz(1, 100, 4, 0.5 )\n",
    "summary(g)"
   ]
  },
  {
   "cell_type": "code",
   "execution_count": 0,
   "metadata": {
    "colab": {
     "base_uri": "https://localhost:8080/",
     "height": 388
    },
    "colab_type": "code",
    "executionInfo": {
     "elapsed": 17846,
     "status": "ok",
     "timestamp": 1546451789243,
     "user": {
      "displayName": "Pau Rodríguez Esmerats",
      "photoUrl": "https://lh3.googleusercontent.com/-2Uitcen3otI/AAAAAAAAAAI/AAAAAAAAAWw/bUyu80-sV4A/s64/photo.jpg",
      "userId": "00356217165817437249"
     },
     "user_tz": -60
    },
    "id": "JLXZglNrSKm3",
    "outputId": "898a8091-7321-45d9-9bb3-d71b88f5e2cd"
   },
   "outputs": [
    {
     "ename": "AttributeError",
     "evalue": "ignored",
     "output_type": "error",
     "traceback": [
      "\u001b[0;31m---------------------------------------------------------------------------\u001b[0m",
      "\u001b[0;31mAttributeError\u001b[0m                            Traceback (most recent call last)",
      "\u001b[0;32m/usr/local/lib/python3.6/dist-packages/IPython/core/formatters.py\u001b[0m in \u001b[0;36m__call__\u001b[0;34m(self, obj)\u001b[0m\n\u001b[1;32m    336\u001b[0m             \u001b[0mmethod\u001b[0m \u001b[0;34m=\u001b[0m \u001b[0mget_real_method\u001b[0m\u001b[0;34m(\u001b[0m\u001b[0mobj\u001b[0m\u001b[0;34m,\u001b[0m \u001b[0mself\u001b[0m\u001b[0;34m.\u001b[0m\u001b[0mprint_method\u001b[0m\u001b[0;34m)\u001b[0m\u001b[0;34m\u001b[0m\u001b[0;34m\u001b[0m\u001b[0m\n\u001b[1;32m    337\u001b[0m             \u001b[0;32mif\u001b[0m \u001b[0mmethod\u001b[0m \u001b[0;32mis\u001b[0m \u001b[0;32mnot\u001b[0m \u001b[0;32mNone\u001b[0m\u001b[0;34m:\u001b[0m\u001b[0;34m\u001b[0m\u001b[0;34m\u001b[0m\u001b[0m\n\u001b[0;32m--> 338\u001b[0;31m                 \u001b[0;32mreturn\u001b[0m \u001b[0mmethod\u001b[0m\u001b[0;34m(\u001b[0m\u001b[0;34m)\u001b[0m\u001b[0;34m\u001b[0m\u001b[0;34m\u001b[0m\u001b[0m\n\u001b[0m\u001b[1;32m    339\u001b[0m             \u001b[0;32mreturn\u001b[0m \u001b[0;32mNone\u001b[0m\u001b[0;34m\u001b[0m\u001b[0;34m\u001b[0m\u001b[0m\n\u001b[1;32m    340\u001b[0m         \u001b[0;32melse\u001b[0m\u001b[0;34m:\u001b[0m\u001b[0;34m\u001b[0m\u001b[0;34m\u001b[0m\u001b[0m\n",
      "\u001b[0;32m/usr/local/lib/python3.6/dist-packages/igraph/drawing/__init__.py\u001b[0m in \u001b[0;36m_repr_svg_\u001b[0;34m(self)\u001b[0m\n\u001b[1;32m    352\u001b[0m         \u001b[0msurface\u001b[0m\u001b[0;34m.\u001b[0m\u001b[0mfinish\u001b[0m\u001b[0;34m(\u001b[0m\u001b[0;34m)\u001b[0m\u001b[0;34m\u001b[0m\u001b[0;34m\u001b[0m\u001b[0m\n\u001b[1;32m    353\u001b[0m         \u001b[0;31m# Return the raw SVG representation\u001b[0m\u001b[0;34m\u001b[0m\u001b[0;34m\u001b[0m\u001b[0;34m\u001b[0m\u001b[0m\n\u001b[0;32m--> 354\u001b[0;31m         \u001b[0;32mreturn\u001b[0m \u001b[0mio\u001b[0m\u001b[0;34m.\u001b[0m\u001b[0mgetvalue\u001b[0m\u001b[0;34m(\u001b[0m\u001b[0;34m)\u001b[0m\u001b[0;34m.\u001b[0m\u001b[0mencode\u001b[0m\u001b[0;34m(\u001b[0m\u001b[0;34m\"utf-8\"\u001b[0m\u001b[0;34m)\u001b[0m\u001b[0;34m\u001b[0m\u001b[0;34m\u001b[0m\u001b[0m\n\u001b[0m\u001b[1;32m    355\u001b[0m \u001b[0;34m\u001b[0m\u001b[0m\n\u001b[1;32m    356\u001b[0m     \u001b[0;34m@\u001b[0m\u001b[0mproperty\u001b[0m\u001b[0;34m\u001b[0m\u001b[0;34m\u001b[0m\u001b[0m\n",
      "\u001b[0;31mAttributeError\u001b[0m: 'bytes' object has no attribute 'encode'"
     ]
    },
    {
     "data": {
      "text/plain": [
       "<igraph.drawing.Plot at 0x7f55bd6e4da0>"
      ]
     },
     "execution_count": 10,
     "metadata": {
      "tags": []
     },
     "output_type": "execute_result"
    }
   ],
   "source": [
    "layout = g.layout(\"large\")\n",
    "plot(g, layout = layout)"
   ]
  },
  {
   "cell_type": "code",
   "execution_count": 0,
   "metadata": {
    "colab": {
     "base_uri": "https://localhost:8080/",
     "height": 35
    },
    "colab_type": "code",
    "executionInfo": {
     "elapsed": 971,
     "status": "ok",
     "timestamp": 1546451146873,
     "user": {
      "displayName": "Pau Rodríguez Esmerats",
      "photoUrl": "https://lh3.googleusercontent.com/-2Uitcen3otI/AAAAAAAAAAI/AAAAAAAAAWw/bUyu80-sV4A/s64/photo.jpg",
      "userId": "00356217165817437249"
     },
     "user_tz": -60
    },
    "id": "oAnYASI4nqWn",
    "outputId": "167800d9-c48d-4965-f955-5dc17525a708"
   },
   "outputs": [
    {
     "name": "stdout",
     "output_type": "stream",
     "text": [
      "IGRAPH U--- 100 99 -- \n"
     ]
    }
   ],
   "source": [
    "g = Graph.Barabasi(100 )\n",
    "summary(g)"
   ]
  },
  {
   "cell_type": "code",
   "execution_count": 0,
   "metadata": {
    "colab": {
     "base_uri": "https://localhost:8080/",
     "height": 568
    },
    "colab_type": "code",
    "executionInfo": {
     "elapsed": 1270,
     "status": "error",
     "timestamp": 1546451149218,
     "user": {
      "displayName": "Pau Rodríguez Esmerats",
      "photoUrl": "https://lh3.googleusercontent.com/-2Uitcen3otI/AAAAAAAAAAI/AAAAAAAAAWw/bUyu80-sV4A/s64/photo.jpg",
      "userId": "00356217165817437249"
     },
     "user_tz": -60
    },
    "id": "W1fZXeO4n8G8",
    "outputId": "ea99f1a3-7dd7-4ee1-f4b8-1c6604ccfb2a"
   },
   "outputs": [
    {
     "ename": "TypeError",
     "evalue": "ignored",
     "output_type": "error",
     "traceback": [
      "\u001b[0;31m---------------------------------------------------------------------------\u001b[0m",
      "\u001b[0;31mTypeError\u001b[0m                                 Traceback (most recent call last)",
      "\u001b[0;32m<ipython-input-15-2e36d45d4ad0>\u001b[0m in \u001b[0;36m<module>\u001b[0;34m()\u001b[0m\n\u001b[1;32m      1\u001b[0m \u001b[0mlayout\u001b[0m \u001b[0;34m=\u001b[0m \u001b[0mg\u001b[0m\u001b[0;34m.\u001b[0m\u001b[0mlayout\u001b[0m\u001b[0;34m(\u001b[0m\u001b[0;34m\"kk\"\u001b[0m\u001b[0;34m)\u001b[0m\u001b[0;34m\u001b[0m\u001b[0;34m\u001b[0m\u001b[0m\n\u001b[0;32m----> 2\u001b[0;31m \u001b[0mplot\u001b[0m\u001b[0;34m(\u001b[0m\u001b[0mg\u001b[0m\u001b[0;34m,\u001b[0m \u001b[0mlayout\u001b[0m \u001b[0;34m=\u001b[0m \u001b[0mlayout\u001b[0m\u001b[0;34m)\u001b[0m\u001b[0;34m\u001b[0m\u001b[0;34m\u001b[0m\u001b[0m\n\u001b[0m",
      "\u001b[0;32m/usr/local/lib/python3.6/dist-packages/igraph/drawing/__init__.py\u001b[0m in \u001b[0;36mplot\u001b[0;34m(obj, target, bbox, *args, **kwds)\u001b[0m\n\u001b[1;32m    444\u001b[0m         \u001b[0mbbox\u001b[0m \u001b[0;34m=\u001b[0m \u001b[0mBoundingBox\u001b[0m\u001b[0;34m(\u001b[0m\u001b[0mbbox\u001b[0m\u001b[0;34m)\u001b[0m\u001b[0;34m\u001b[0m\u001b[0;34m\u001b[0m\u001b[0m\n\u001b[1;32m    445\u001b[0m \u001b[0;34m\u001b[0m\u001b[0m\n\u001b[0;32m--> 446\u001b[0;31m     \u001b[0mresult\u001b[0m \u001b[0;34m=\u001b[0m \u001b[0mPlot\u001b[0m\u001b[0;34m(\u001b[0m\u001b[0mtarget\u001b[0m\u001b[0;34m,\u001b[0m \u001b[0mbbox\u001b[0m\u001b[0;34m,\u001b[0m \u001b[0mbackground\u001b[0m\u001b[0;34m=\u001b[0m\u001b[0mkwds\u001b[0m\u001b[0;34m.\u001b[0m\u001b[0mget\u001b[0m\u001b[0;34m(\u001b[0m\u001b[0;34m\"background\"\u001b[0m\u001b[0;34m,\u001b[0m \u001b[0;34m\"white\"\u001b[0m\u001b[0;34m)\u001b[0m\u001b[0;34m)\u001b[0m\u001b[0;34m\u001b[0m\u001b[0;34m\u001b[0m\u001b[0m\n\u001b[0m\u001b[1;32m    447\u001b[0m \u001b[0;34m\u001b[0m\u001b[0m\n\u001b[1;32m    448\u001b[0m     \u001b[0;32mif\u001b[0m \u001b[0;34m\"margin\"\u001b[0m \u001b[0;32min\u001b[0m \u001b[0mkwds\u001b[0m\u001b[0;34m:\u001b[0m\u001b[0;34m\u001b[0m\u001b[0;34m\u001b[0m\u001b[0m\n",
      "\u001b[0;32m/usr/local/lib/python3.6/dist-packages/igraph/drawing/__init__.py\u001b[0m in \u001b[0;36m__init__\u001b[0;34m(self, target, bbox, palette, background)\u001b[0m\n\u001b[1;32m    115\u001b[0m         \"\"\"\n\u001b[1;32m    116\u001b[0m         \u001b[0mself\u001b[0m\u001b[0;34m.\u001b[0m\u001b[0m_filename\u001b[0m \u001b[0;34m=\u001b[0m \u001b[0;32mNone\u001b[0m\u001b[0;34m\u001b[0m\u001b[0;34m\u001b[0m\u001b[0m\n\u001b[0;32m--> 117\u001b[0;31m         \u001b[0mself\u001b[0m\u001b[0;34m.\u001b[0m\u001b[0m_surface_was_created\u001b[0m \u001b[0;34m=\u001b[0m \u001b[0;32mnot\u001b[0m \u001b[0misinstance\u001b[0m\u001b[0;34m(\u001b[0m\u001b[0mtarget\u001b[0m\u001b[0;34m,\u001b[0m \u001b[0mcairo\u001b[0m\u001b[0;34m.\u001b[0m\u001b[0mSurface\u001b[0m\u001b[0;34m)\u001b[0m\u001b[0;34m\u001b[0m\u001b[0;34m\u001b[0m\u001b[0m\n\u001b[0m\u001b[1;32m    118\u001b[0m         \u001b[0mself\u001b[0m\u001b[0;34m.\u001b[0m\u001b[0m_need_tmpfile\u001b[0m \u001b[0;34m=\u001b[0m \u001b[0;32mFalse\u001b[0m\u001b[0;34m\u001b[0m\u001b[0;34m\u001b[0m\u001b[0m\n\u001b[1;32m    119\u001b[0m \u001b[0;34m\u001b[0m\u001b[0m\n",
      "\u001b[0;32m/usr/local/lib/python3.6/dist-packages/igraph/drawing/utils.py\u001b[0m in \u001b[0;36m__getattr__\u001b[0;34m(self, _)\u001b[0m\n\u001b[1;32m    394\u001b[0m \u001b[0;34m\u001b[0m\u001b[0m\n\u001b[1;32m    395\u001b[0m     \u001b[0;32mdef\u001b[0m \u001b[0m__getattr__\u001b[0m\u001b[0;34m(\u001b[0m\u001b[0mself\u001b[0m\u001b[0;34m,\u001b[0m \u001b[0m_\u001b[0m\u001b[0;34m)\u001b[0m\u001b[0;34m:\u001b[0m\u001b[0;34m\u001b[0m\u001b[0;34m\u001b[0m\u001b[0m\n\u001b[0;32m--> 396\u001b[0;31m         \u001b[0;32mraise\u001b[0m \u001b[0mTypeError\u001b[0m\u001b[0;34m(\u001b[0m\u001b[0;34m\"plotting not available\"\u001b[0m\u001b[0;34m)\u001b[0m\u001b[0;34m\u001b[0m\u001b[0;34m\u001b[0m\u001b[0m\n\u001b[0m\u001b[1;32m    397\u001b[0m     \u001b[0;32mdef\u001b[0m \u001b[0m__call__\u001b[0m\u001b[0;34m(\u001b[0m\u001b[0mself\u001b[0m\u001b[0;34m,\u001b[0m \u001b[0m_\u001b[0m\u001b[0;34m)\u001b[0m\u001b[0;34m:\u001b[0m\u001b[0;34m\u001b[0m\u001b[0;34m\u001b[0m\u001b[0m\n\u001b[1;32m    398\u001b[0m         \u001b[0;32mraise\u001b[0m \u001b[0mTypeError\u001b[0m\u001b[0;34m(\u001b[0m\u001b[0;34m\"plotting not available\"\u001b[0m\u001b[0;34m)\u001b[0m\u001b[0;34m\u001b[0m\u001b[0;34m\u001b[0m\u001b[0m\n",
      "\u001b[0;31mTypeError\u001b[0m: plotting not available"
     ]
    }
   ],
   "source": [
    "layout = g.layout(\"kk\")\n",
    "plot(g, layout = layout)"
   ]
  },
  {
   "cell_type": "code",
   "execution_count": 0,
   "metadata": {
    "colab": {},
    "colab_type": "code",
    "id": "PSpNrWjnbZB8"
   },
   "outputs": [],
   "source": []
  },
  {
   "cell_type": "markdown",
   "metadata": {
    "colab_type": "text",
    "id": "dIHNeJ4rbgCC"
   },
   "source": [
    "**Input this random graph to gcn and train and test**"
   ]
  },
  {
   "cell_type": "code",
   "execution_count": 0,
   "metadata": {
    "colab": {},
    "colab_type": "code",
    "id": "dRB6RMyCbZEj"
   },
   "outputs": [],
   "source": []
  },
  {
   "cell_type": "code",
   "execution_count": 0,
   "metadata": {
    "colab": {},
    "colab_type": "code",
    "id": "R9DO8WFSbZHL"
   },
   "outputs": [],
   "source": []
  },
  {
   "cell_type": "code",
   "execution_count": 0,
   "metadata": {
    "colab": {},
    "colab_type": "code",
    "id": "PSF2oH2LbZJ4"
   },
   "outputs": [],
   "source": []
  },
  {
   "cell_type": "code",
   "execution_count": 0,
   "metadata": {
    "colab": {},
    "colab_type": "code",
    "id": "Pcxtc57xbZMV"
   },
   "outputs": [],
   "source": []
  },
  {
   "cell_type": "markdown",
   "metadata": {
    "colab_type": "text",
    "id": "42-HjzFMct64"
   },
   "source": [
    "**Example Keras code**"
   ]
  },
  {
   "cell_type": "code",
   "execution_count": 0,
   "metadata": {
    "colab": {},
    "colab_type": "code",
    "id": "QhM7CDlueEPV"
   },
   "outputs": [],
   "source": [
    "import numpy as np\n",
    "import matplotlib.pyplot as plt\n",
    "\n",
    "import keras\n",
    "keras.__version__"
   ]
  },
  {
   "cell_type": "code",
   "execution_count": 0,
   "metadata": {
    "colab": {},
    "colab_type": "code",
    "id": "o8K4PfureLHs"
   },
   "outputs": [],
   "source": [
    "# Training Data\n",
    "train_X = np.asarray([3.3,4.4,5.5,6.71,6.93,4.168,9.779,6.182,7.59,2.167, \n",
    "                      7.042,10.791,5.313,7.997,5.654,9.27,3.1])\n",
    "train_Y = np.asarray([1.7,2.76,2.09,3.19,1.694,1.573,3.366,2.596,2.53,1.221,\n",
    "                      2.827,3.465,1.65,2.904,2.42,2.94,1.3])\n",
    "n_samples = train_X.shape[0]\n",
    "print('Number of samples:', n_samples)"
   ]
  },
  {
   "cell_type": "code",
   "execution_count": 0,
   "metadata": {
    "colab": {},
    "colab_type": "code",
    "id": "P6x3aEZdeOTV"
   },
   "outputs": [],
   "source": [
    "from keras import models\n",
    "from keras import layers\n",
    "\n",
    "model = models.Sequential()\n",
    "model.add(layers.Dense(1, activation=None, input_shape=(1,)))"
   ]
  },
  {
   "cell_type": "code",
   "execution_count": 0,
   "metadata": {
    "colab": {},
    "colab_type": "code",
    "id": "PfkaOHCahHX3"
   },
   "outputs": [],
   "source": [
    "# Graphic display *before* training\n",
    "W, b = [np.asscalar(v) for v in model.layers[0].get_weights()]\n",
    "plt.plot(train_X, train_Y, 'ro', label='Original data')\n",
    "plt.plot(train_X, W * train_X + b, label='Fitted line')\n",
    "plt.legend()\n",
    "plt.show()"
   ]
  },
  {
   "cell_type": "code",
   "execution_count": 0,
   "metadata": {
    "colab": {},
    "colab_type": "code",
    "id": "yi4M50zoeYGB"
   },
   "outputs": [],
   "source": [
    "model.compile(optimizer=keras.optimizers.Adam(lr=0.01), \n",
    "              loss='mean_squared_error')"
   ]
  },
  {
   "cell_type": "code",
   "execution_count": 0,
   "metadata": {
    "colab": {},
    "colab_type": "code",
    "id": "sLatO_fxehVB"
   },
   "outputs": [],
   "source": [
    "model.fit(train_X, train_Y, epochs=100, batch_size=1)"
   ]
  },
  {
   "cell_type": "code",
   "execution_count": 0,
   "metadata": {
    "colab": {
     "base_uri": "https://localhost:8080/",
     "height": 347
    },
    "colab_type": "code",
    "executionInfo": {
     "elapsed": 885,
     "status": "ok",
     "timestamp": 1538405022572,
     "user": {
      "displayName": "",
      "photoUrl": "",
      "userId": ""
     },
     "user_tz": -120
    },
    "id": "VG9eJhdXeqoi",
    "outputId": "9ca3956d-f74f-4f13-ddce-5a88f49353a7"
   },
   "outputs": [
    {
     "data": {
      "image/png": "[encoded data removed]",
      "text/plain": [
       "<matplotlib.figure.Figure at 0x7f9cfcc55f10>"
      ]
     },
     "metadata": {
      "tags": []
     },
     "output_type": "display_data"
    }
   ],
   "source": [
    "# Graphic display *after* training\n",
    "W, b = [np.asscalar(v) for v in model.layers[0].get_weights()]\n",
    "plt.plot(train_X, train_Y, 'ro', label='Original data')\n",
    "plt.plot(train_X, W * train_X + b, label='Fitted line')\n",
    "plt.legend()\n",
    "plt.show()"
   ]
  },
  {
   "cell_type": "markdown",
   "metadata": {
    "colab_type": "text",
    "id": "Uv97O9x3juWp"
   },
   "source": [
    "## Next steps\n",
    "\n",
    "Keras provides a [dataset](https://keras.io/datasets/#boston-housing-price-regression-dataset) with house attributes and pricing in Boston in the 1970s. Can you train a model that predicts the price of a house it has never seen given its attributes?\n",
    "\n",
    "Note: unlike in this simple example, you will be working with two data splits (train and test). Remember that the test data is only used for evaluation, as it can give us a measure of how good the model is when making predictions for data it has never seen.\n",
    "\n",
    "Tip: machine learning models usually work better when all inputs have a similar range. Try to normalize the data that is fed to the model by subtracting the mean and dividing by the standard deviation for each input dimension."
   ]
  },
  {
   "cell_type": "code",
   "execution_count": 0,
   "metadata": {
    "colab": {},
    "colab_type": "code",
    "id": "kNGEZ2rfGIKf"
   },
   "outputs": [],
   "source": [
    "from keras.datasets import boston_housing\n",
    "\n",
    "(train_X, train_Y), (test_X, test_Y) = boston_housing.load_data()"
   ]
  },
  {
   "cell_type": "code",
   "execution_count": 0,
   "metadata": {
    "colab": {},
    "colab_type": "code",
    "id": "OujJ8ySsSDez"
   },
   "outputs": [],
   "source": [
    "# non standardized data\n",
    "from keras import models\n",
    "from keras import layers\n",
    "\n",
    "model = models.Sequential()\n",
    "model.add(layers.Dense(1, activation=None, input_shape=(13,)))\n",
    "model.compile(optimizer=keras.optimizers.Adam(lr=0.01), \n",
    "              loss='mean_squared_error')\n",
    "model.fit(train_X, train_Y, epochs=100, batch_size=1)"
   ]
  },
  {
   "cell_type": "code",
   "execution_count": 0,
   "metadata": {
    "colab": {},
    "colab_type": "code",
    "id": "mFdkDm6VSDnE"
   },
   "outputs": [],
   "source": [
    "# compute the test error\n",
    "test_error = model.evaluate(test_X, test_Y, verbose=1, batch_size=1)\n",
    "print(test_error)"
   ]
  },
  {
   "cell_type": "code",
   "execution_count": 0,
   "metadata": {
    "colab": {},
    "colab_type": "code",
    "id": "o0Ex4sOpGXnT"
   },
   "outputs": [],
   "source": [
    "# standardization of the data\n",
    "from sklearn.preprocessing import StandardScaler\n",
    "scaler = StandardScaler().fit(train_X)\n",
    "sd_train_X = scaler.transform(train_X)\n",
    "train_Y = train_Y\n",
    "sd_test_X = scaler.transform(x_test)\n",
    "test_Y = y_test"
   ]
  },
  {
   "cell_type": "code",
   "execution_count": 0,
   "metadata": {
    "colab": {},
    "colab_type": "code",
    "id": "Ly3E1Vr8GMjI"
   },
   "outputs": [],
   "source": [
    "# fit the model again with standardized data\n",
    "model = models.Sequential()\n",
    "model.add(layers.Dense(1, activation=None, input_shape=(13,)))\n",
    "model.compile(optimizer=keras.optimizers.Adam(lr=0.01), \n",
    "              loss='mean_squared_error')\n",
    "model.fit(sd_train_X, train_Y, epochs=100, batch_size=1)"
   ]
  },
  {
   "cell_type": "code",
   "execution_count": 0,
   "metadata": {
    "colab": {},
    "colab_type": "code",
    "id": "tYYYfRwJItTu"
   },
   "outputs": [],
   "source": [
    "# compute the test error\n",
    "test_error = model.evaluate(sd_test_X, test_Y, verbose=1, batch_size=1)\n",
    "print(test_error)"
   ]
  },
  {
   "cell_type": "markdown",
   "metadata": {
    "colab_type": "text",
    "id": "5VaL3qA7qk5W"
   },
   "source": [
    "**"
   ]
  }
 ],
 "metadata": {
  "accelerator": "GPU",
  "colab": {
   "collapsed_sections": [],
   "name": "GCN_keras.ipynb",
   "provenance": [
    {
     "file_id": "19WzbfcJgyxpWX91yresJOK-lxqAeI1oi",
     "timestamp": 1538409400388
    }
   ],
   "version": "0.3.2"
  },
  "kernelspec": {
   "display_name": "Python 3",
   "language": "python",
   "name": "python3"
  },
  "language_info": {
   "codemirror_mode": {
    "name": "ipython",
    "version": 3
   },
   "file_extension": ".py",
   "mimetype": "text/x-python",
   "name": "python",
   "nbconvert_exporter": "python",
   "pygments_lexer": "ipython3",
   "version": "3.6.4"
  }
 },
 "nbformat": 4,
 "nbformat_minor": 1
}
